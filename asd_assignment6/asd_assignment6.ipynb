{
  "nbformat": 4,
  "nbformat_minor": 0,
  "metadata": {
    "kernelspec": {
      "display_name": "Python 3",
      "language": "python",
      "name": "python3"
    },
    "language_info": {
      "codemirror_mode": {
        "name": "ipython",
        "version": 3
      },
      "file_extension": ".py",
      "mimetype": "text/x-python",
      "name": "python",
      "nbconvert_exporter": "python",
      "pygments_lexer": "ipython3",
      "version": "3.7.4"
    },
    "latex_envs": {
      "LaTeX_envs_menu_present": true,
      "autoclose": false,
      "autocomplete": true,
      "bibliofile": "biblio.bib",
      "cite_by": "apalike",
      "current_citInitial": 1,
      "eqLabelWithNumbers": true,
      "eqNumInitial": 1,
      "hotkeys": {
        "equation": "Ctrl-E",
        "itemize": "Ctrl-I"
      },
      "labels_anchors": false,
      "latex_user_defs": false,
      "report_style_numbering": false,
      "user_envs_cfg": false
    },
    "varInspector": {
      "cols": {
        "lenName": 16,
        "lenType": 16,
        "lenVar": 40
      },
      "kernels_config": {
        "python": {
          "delete_cmd_postfix": "",
          "delete_cmd_prefix": "del ",
          "library": "var_list.py",
          "varRefreshCmd": "print(var_dic_list())"
        },
        "r": {
          "delete_cmd_postfix": ") ",
          "delete_cmd_prefix": "rm(",
          "library": "var_list.r",
          "varRefreshCmd": "cat(var_dic_list()) "
        }
      },
      "types_to_exclude": [
        "module",
        "function",
        "builtin_function_or_method",
        "instance",
        "_Feature"
      ],
      "window_display": false
    },
    "colab": {
      "name": "asd_assignment6.ipynb",
      "provenance": [],
      "include_colab_link": true
    }
  },
  "cells": [
    {
      "cell_type": "markdown",
      "metadata": {
        "id": "view-in-github",
        "colab_type": "text"
      },
      "source": [
        "<a href=\"https://colab.research.google.com/github/Braafisch/ASD-Assignments/blob/main/asd_assignment6/asd_assignment6.ipynb\" target=\"_parent\"><img src=\"https://colab.research.google.com/assets/colab-badge.svg\" alt=\"Open In Colab\"/></a>"
      ]
    },
    {
      "cell_type": "markdown",
      "metadata": {
        "id": "ChG0kKeRGAmZ"
      },
      "source": [
        "## Vorlesung ASD, HS Esslingen, Thao Dang\n",
        "\n",
        "# Kalman-Filter \n",
        "\n",
        "In dieser Übung werden Sie - in enger Anlehnung an die Vorlesungsfolien - ein Kalman-Filter zum Tracking eines vorausfahrenden Fahrzeugs anhand von Kamera- und Radar-Daten exemplarisch untersuchen.\n",
        "\n",
        "![tracking](https://drive.google.com/uc?id=1J26JqA7fW3IQ6sWxMH5h9bRga9yhlLO9)\n",
        "\n",
        "Für ein Adaptive-Cruise-Control(ACC)-System sollen Sie die - jeweils relative - Entfernung $s$, Geschwindigkeit $v$ und Beschleunigung $a$ eines vorausfahrenden Objekts bestimmen. Sie können dazu vereinfachend annehmen, dass das Egofahrzeug selbst mit konstanter Geschwindigkeit fährt und ein Zustandsmodell mit konstantem Ruck entsprechen dem Zustandsmodell in der Vorlesung verwendet werden kann.\n",
        "\n",
        "Im Unterschied zum Beispiel in der Vorlesung liegen hier aber drei Messungen vor:\n",
        "1. der aus der Kamera gemessene Relativabstand $s_{camera}$ (z.B. über eine Ebenenannahme ermittelt)\n",
        "2. der aus dem Radar gemessene Relativabstand $s_{radar}$ sowie\n",
        "3. die mittels Radar gemessene Relativgeschwindigkeit $v_{radar}$. \n",
        "\n",
        "Es ergibt sich also in jedem diskreten Zeitschritt $k$ ein Beobachtungsvektor $\\mathbf{y}(k) = (s_{camera}(k), s_{radar}(k), v_{radar}(k))^T$. \n",
        "\n",
        "## Vorbereitungen"
      ]
    },
    {
      "cell_type": "code",
      "metadata": {
        "id": "YkHxBmBTGAmi"
      },
      "source": [
        "import numpy as np\n",
        "import matplotlib.pyplot as plt"
      ],
      "execution_count": null,
      "outputs": []
    },
    {
      "cell_type": "markdown",
      "metadata": {
        "id": "eaY_ZLfbGAmj"
      },
      "source": [
        "Laden der Messungen inkl. zugeordneten Zeitstempel sowie der wahren Positions- und Bewegungsdaten des Vorausfahrers. Die Form der geladenen Daten ist unten im Code angegeben. "
      ]
    },
    {
      "cell_type": "code",
      "metadata": {
        "id": "VBddw7MvGcJ0"
      },
      "source": [
        "# Upload data\n",
        "# KF_tracking_data.npz\n",
        "\n",
        "import requests\n",
        "import io\n",
        "import shutil\n",
        "\n",
        "url = 'https://raw.githubusercontent.com/Braafisch/ASD-Assignments/main/asd_assignment6/KF_tracking_data.npz'\n",
        "response = requests.get(url, allow_redirects = True, stream = True).raw\n",
        "\n",
        "with open('KF_tracking_data.npz', 'wb') as fin:\n",
        "    shutil.copyfileobj(response, fin)"
      ],
      "execution_count": null,
      "outputs": []
    },
    {
      "cell_type": "code",
      "metadata": {
        "id": "ojk3fxq_GAmk"
      },
      "source": [
        "npzfile = np.load('KF_tracking_data.npz')\n",
        "t = npzfile['t'] # timestamps: [t0, t1, ...], units: s\n",
        "y = npzfile['y'] # observations: [[s_camera0, s_radar0, v_radar0], [s_camera1, s_radar1, v_radar1], ...]\n",
        "                 # units: m, m, m/s\n",
        "states_true = npzfile['states_true'] # true states: [[s0, v0, a0], [s1, v1, a1], ...]\n",
        "                                     # units: m, m/s, m/ss"
      ],
      "execution_count": null,
      "outputs": []
    },
    {
      "cell_type": "markdown",
      "metadata": {
        "id": "3czAn-d_GAml"
      },
      "source": [
        "### A1.1\n",
        "\n",
        "Stellen Sie zunächst die gemessenen Daten grafisch mit Matplotlib dar. Berechnen Sie zudem durch einfache diskrete Ableitung des Geschwindigkeitssignals einen (stark verrauschten) Schätzwert für die Beschleunigung des Voraussfahrers. "
      ]
    },
    {
      "cell_type": "code",
      "metadata": {
        "id": "xYV7Jkj7GAml"
      },
      "source": [
        ""
      ],
      "execution_count": null,
      "outputs": []
    },
    {
      "cell_type": "markdown",
      "metadata": {
        "id": "D2PTNoM-GAml"
      },
      "source": [
        "### A1.2\n",
        "\n",
        "Bestimmen Sie jetzt (in Anlehnung an die Vorlesungsfolien) die Zustandsraumbeschreibung für das Kalman-Filter, d.h. die Zutsandstransitionsmatrix ``Ad``, die Eingangsmatrix ``Bd``, die Designmatrix ``C`` und die Störmatrix für das Systemrauschen ``G``. "
      ]
    },
    {
      "cell_type": "code",
      "metadata": {
        "id": "xtUXl2sWGAmm"
      },
      "source": [
        "Ts = t[1]-t[0] # sampling time\n",
        "R = np.array([[2**2, 0, 0], [0, 1**2, 0], [0, 0, 0.2**2]]) # observation noise covariance\n",
        "Q = 0.01**2 # system noise covariance\n",
        "\n",
        "# HIER CODE EINFUEGEN\n",
        "Ad = ...\n",
        "Bd = ...\n",
        "\n",
        "C = ...\n",
        "\n",
        "G = ..."
      ],
      "execution_count": null,
      "outputs": []
    },
    {
      "cell_type": "markdown",
      "metadata": {
        "id": "pml8Dyt_GAmn"
      },
      "source": [
        "### A1.3 \n",
        "\n",
        "Führen Sie nun - analog zu den Vorlesungsfolien! - die zyklische Berechnung des Kalman-Filters durch. \n",
        "\n",
        "Speichern Sie die in jedem Zeitschritt ermittelten Zustände in der Matrix ``states``, die folgende Form haben soll:\n",
        "```\n",
        "    [[s0, v0, a0], # s: Distanz, v: Geschwindigkeit, a: Beschleunigung \n",
        "     [s1, v1, a1], \n",
        "     ...]\n",
        "```\n",
        "\n",
        "Stellen Sie den Verlauf der geschätzten Zustandsgrößen dar und vergleichen Sie Ihr Ergebnis mit den wahren Werten ``states_true``."
      ]
    },
    {
      "cell_type": "code",
      "metadata": {
        "id": "TVfFjnQsGAmn"
      },
      "source": [
        "x0 = np.array([[y[0,1]], [y[0,2]], [0]])\n",
        "P0 = np.array([[10**2, 0, 0], [0, 10**2, 0], [0, 0, 0.2**2]])\n",
        "\n",
        "u = np.zeros((y.shape[0],)) # control input, not used here, so set to zero\n",
        "states = np.zeros((y.shape[0], 3))\n",
        "\n",
        "# HIER CODE EINFUEGEN\n"
      ],
      "execution_count": null,
      "outputs": []
    },
    {
      "cell_type": "markdown",
      "metadata": {
        "id": "YzwSJfGZGAmn"
      },
      "source": [
        "### A2.1\n",
        "\n",
        "Verwenden Sie nun einen offene Implementierung des Kalman-Filters und vergleichen Sie die Filterergebnisse. \n",
        "\n",
        "Hier wird die Bibliothek ``filterpy`` verwendet, die Sie in colab über den Befehl\n",
        "```\n",
        "!pip3 install filterpy\n",
        "```\n",
        "bzw. bei Ihrer lokalen Installation (mit Anaconda) über \n",
        "```\n",
        "conda install -c conda-forge filterpy\n",
        "```\n",
        "oder (ohne Anaconda)\n",
        "```\n",
        "pip3 install filterpy\n",
        "```\n",
        "nachinstallieren können. Die entsprechenden Befehle zur Verwendung der Bibliothek sind nachfolgend schon befüllt. Veranschaulichen Sie sich den unten stehen Code und vergleichen Sie die Ergebnisse mit den Ergebnissen aus A1."
      ]
    },
    {
      "cell_type": "code",
      "metadata": {
        "id": "i2-HJ9vaGAmt"
      },
      "source": [
        "from filterpy.kalman import KalmanFilter # \"conda install -c conda-forge filterpy\" or \"pip3 install filterpy\"\n",
        "\n",
        "f = KalmanFilter(dim_x=3, dim_z=3) # 3 state components, 3 observations\n",
        "\n",
        "f.F = Ad # state transition matrix\n",
        "f.H = C # design matrix\n",
        "\n",
        "f.R = R # measurement noise covariance matrix\n",
        "f.Q = np.dot(G, np.dot(Q, G.T)) # system noise covariance matrix\n",
        "\n",
        "f.x = x0 # initial state vector\n",
        "f.P = P0 # initial covariance\n",
        "\n",
        "for k in range(y.shape[0]):\n",
        "    f.predict()\n",
        "    f.update(np.reshape(y[k,:], (3,1)))\n",
        "    states[k,:] = f.x.T\n",
        "\n",
        "    \n",
        "plt.figure(figsize=(7,10))\n",
        "plt.subplot(3,1,1)\n",
        "plt.plot(t, y[:,0], '-.', label='S_camera')\n",
        "plt.plot(t, y[:,1], '-.', label='S_radar')\n",
        "plt.plot(t, states_true[:,0], 'r--', label='s_true')\n",
        "plt.plot(t, states[:,0], 'g', label='s_est', lw=2)\n",
        "plt.grid(True)\n",
        "plt.legend()\n",
        "\n",
        "plt.subplot(3,1,2)\n",
        "plt.plot(t, y[:,2], '-.', label='v_radar')\n",
        "plt.plot(t, states_true[:,1], 'r--', label='v_true')\n",
        "plt.plot(t, states[:,1], 'g', label='v_est', lw=2)\n",
        "\n",
        "plt.grid(True)\n",
        "plt.legend()\n",
        "\n",
        "plt.subplot(3,1,3)\n",
        "plt.plot(t, states_true[:,2], 'r--', label='a_true')\n",
        "plt.plot(t, states[:,2], 'g', label='a_est', lw=2)\n",
        "plt.grid(True)\n",
        "plt.legend();"
      ],
      "execution_count": null,
      "outputs": []
    },
    {
      "cell_type": "markdown",
      "metadata": {
        "id": "N6ujAnmzGAmv"
      },
      "source": [
        "### A2.2\n",
        "\n",
        "Verändern Sie nun das Systemrauschen ``Q`` sowie das Messrauschen ``R``. Welchen Einfluss hat die Veränderung dieser Größen auf Ihr Ergebnis?"
      ]
    },
    {
      "cell_type": "code",
      "metadata": {
        "id": "aa6802djGAmv"
      },
      "source": [
        ""
      ],
      "execution_count": null,
      "outputs": []
    }
  ]
}