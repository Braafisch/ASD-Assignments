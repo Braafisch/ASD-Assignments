{
  "nbformat": 4,
  "nbformat_minor": 0,
  "metadata": {
    "file_extension": ".py",
    "kernelspec": {
      "display_name": "Python 3",
      "language": "python",
      "name": "python3"
    },
    "language_info": {
      "codemirror_mode": {
        "name": "ipython",
        "version": 3
      },
      "file_extension": ".py",
      "mimetype": "text/x-python",
      "name": "python",
      "nbconvert_exporter": "python",
      "pygments_lexer": "ipython3",
      "version": "3.7.4"
    },
    "latex_envs": {
      "LaTeX_envs_menu_present": true,
      "autoclose": false,
      "autocomplete": true,
      "bibliofile": "biblio.bib",
      "cite_by": "apalike",
      "current_citInitial": 1,
      "eqLabelWithNumbers": true,
      "eqNumInitial": 1,
      "hotkeys": {
        "equation": "Ctrl-E",
        "itemize": "Ctrl-I"
      },
      "labels_anchors": false,
      "latex_user_defs": false,
      "report_style_numbering": false,
      "user_envs_cfg": false
    },
    "mimetype": "text/x-python",
    "name": "python",
    "npconvert_exporter": "python",
    "pygments_lexer": "ipython3",
    "varInspector": {
      "cols": {
        "lenName": 16,
        "lenType": 16,
        "lenVar": 40
      },
      "kernels_config": {
        "python": {
          "delete_cmd_postfix": "",
          "delete_cmd_prefix": "del ",
          "library": "var_list.py",
          "varRefreshCmd": "print(var_dic_list())"
        },
        "r": {
          "delete_cmd_postfix": ") ",
          "delete_cmd_prefix": "rm(",
          "library": "var_list.r",
          "varRefreshCmd": "cat(var_dic_list()) "
        }
      },
      "types_to_exclude": [
        "module",
        "function",
        "builtin_function_or_method",
        "instance",
        "_Feature"
      ],
      "window_display": false
    },
    "version": 3,
    "colab": {
      "name": "asd_assignment5.ipynb",
      "provenance": [],
      "include_colab_link": true
    }
  },
  "cells": [
    {
      "cell_type": "markdown",
      "metadata": {
        "id": "view-in-github",
        "colab_type": "text"
      },
      "source": [
        "<a href=\"https://colab.research.google.com/github/Braafisch/ASD-Assignments/blob/main/asd_assignment5/asd_assignment5.ipynb\" target=\"_parent\"><img src=\"https://colab.research.google.com/assets/colab-badge.svg\" alt=\"Open In Colab\"/></a>"
      ]
    },
    {
      "cell_type": "markdown",
      "metadata": {
        "id": "6AouIdOxrmTW"
      },
      "source": [
        "# ASD Übung 3: Stanley-Regler\n",
        "\n",
        "In dieser Übung implementieren Sie einen Stanley-Regler zur Querführung sowie einen einfachen P-Regler zur Längsführung. Hinweise zur Nutzung von Python, Jupyter Notebooks und Colab finden Sie in den Vorbereitungsaufgaben der Vorlesung.. \n",
        "\n",
        "## 1. Vorbereitung: Laden und Anzeigen der Sollbahn\n",
        "\n",
        "Zunächst werden wieder die erforderlichen Bibliotheken geladen."
      ]
    },
    {
      "cell_type": "code",
      "metadata": {
        "id": "_lcijsOErmTe"
      },
      "source": [
        "import numpy as np\n",
        "from scipy.integrate import odeint\n",
        "\n",
        "import matplotlib.pyplot as plt\n",
        "from matplotlib import animation, rc\n",
        "from IPython.display import HTML"
      ],
      "execution_count": null,
      "outputs": []
    },
    {
      "cell_type": "markdown",
      "metadata": {
        "id": "uzM2zWG0rmTf"
      },
      "source": [
        "Upload der erforderlichen Dateien in Colab:"
      ]
    },
    {
      "cell_type": "code",
      "metadata": {
        "id": "KhjnljbbXqrm"
      },
      "source": [
        "# Upload data file - Colab ONLY!\n",
        "# coursedata.npz, vehicle_model.py\n",
        "import requests\n",
        "import io\n",
        "import shutil\n",
        "\n",
        "url = 'https://raw.githubusercontent.com/Braafisch/ASD-Assignments/main/asd_assignment5/vehicle_model.py'\n",
        "\n",
        "response = requests.get(url, allow_redirects = True)\n",
        "\n",
        "with open('vehicle_model.py', 'wb') as fin:\n",
        "    shutil.copyfileobj(io.BytesIO(response.content), fin)\n",
        "\n",
        "url = 'https://raw.githubusercontent.com/Braafisch/ASD-Assignments/main/asd_assignment5/coursedata.npz'\n",
        "response = requests.get(url, allow_redirects = True, stream = True).raw\n",
        "\n",
        "with open('coursedata.npz', 'wb') as fin:\n",
        "    shutil.copyfileobj(response, fin)"
      ],
      "execution_count": null,
      "outputs": []
    },
    {
      "cell_type": "markdown",
      "metadata": {
        "id": "uNQk38fGrmTg"
      },
      "source": [
        "Geladen wird die Sollspur mit:"
      ]
    },
    {
      "cell_type": "code",
      "metadata": {
        "id": "q4PC_oZNrmTg"
      },
      "source": [
        "trkdata = np.load('coursedata.npz')\n",
        "print(trkdata.files)\n",
        "print(len(trkdata['s']))\n",
        "np.mean(np.diff(trkdata['s']))"
      ],
      "execution_count": null,
      "outputs": []
    },
    {
      "cell_type": "markdown",
      "metadata": {
        "id": "fOfukGoLrmTh"
      },
      "source": [
        "## A 3.1\n",
        "\n",
        "Verdeutlichen Sie sich die Bedeutung der einzelnen Elemente der Sollspur ```trkdata``` (Hinweis: die Krümmung (engl. ```curvature```) ist der Kehrwert des Kreisradius ```r```). Zeichnen Sie die Sollspur mit Hilfe des Befehls ```plt.plot```."
      ]
    },
    {
      "cell_type": "code",
      "metadata": {
        "id": "MtGdMnqUrmTh"
      },
      "source": [
        "## INSERT CODE HERE\n",
        "plt.plot(trkdata['x'], trkdata['y'])"
      ],
      "execution_count": null,
      "outputs": []
    },
    {
      "cell_type": "markdown",
      "metadata": {
        "id": "sSDf4O_trmTh"
      },
      "source": [
        "## 2. Querbeschleunigung\n",
        "\n",
        "Um das Fahrzeug sicher zu bewegen, sollte es mit deutlicher Reserve zum fahrdynamischen Grenzbereich betrieben werden. Die bedeutet, dass der Betriebsbereich deutlich innerhalb des **Kammschen Kreises** (siehe Vorlesung) liegen sollte.\n",
        "\n",
        "Wir nehmen nun an, dass die Sollspur mit konstanter Geschwindigkeit befahren werden soll (d.h. Längsbeschleunigung $a_x = 0$) und die Querbeschleunigung $a_y$ im stabilen Bereich $6 m/s^2$ niemals übersteigen darf. \n",
        "\n",
        "### A3.2\n",
        "\n",
        "Aus diesen Annahmen lässt sich  die maximale Geschwindigkeit ```v_soll``` bestimmen, mit der das Fahrzeug die Sollspur befahren kann:\n",
        "1. Nehmen Sie zunächst an, dass ```v_soll=40km/h``` gilt. \n",
        "2. Berechnen Sie nun für diese Geschwindigkeit ```v_soll``` die resultierende Querbeschleunigung $a_y$ des Fahrzeugs entlang der Sollspur. Verwenden Sie dazu die Näherungsformel für eine Kreisfahrt mit konstanter Geschwindigkeit (siehe Vorlesung): \\begin{eqnarray} \\dot{\\psi} &=& v_{soll} \\, / \\, r \\\\\n",
        "\\rightarrow \\;\\;\\;\\; a_y &=& v_{soll} \\,\\dot{\\psi} = v_{soll}^2 \\, / \\, r \\end{eqnarray} bzw. mit der Krümmung $\\kappa = 1/r$: \\begin{equation}\n",
        "a_y = v_{soll}^2 \\, \\kappa \\,.\n",
        "\\end{equation} Visualisieren Sie $a_y$ mit Hilfe von ```plt.plot```. Ist die Sollspur mit ```v_soll=40km/h``` fahrbar?\n",
        "3. Bestimmen Sie durch ausprobieren eine möglichst hohe, aber dennoch fahrbare Sollgeschwindigkeit ``v_soll``."
      ]
    },
    {
      "cell_type": "code",
      "metadata": {
        "id": "jVbZKRJLrmTi"
      },
      "source": [
        "plt.subplot(3,1,1)\n",
        "plt.plot(trkdata['s'], np.unwrap(trkdata['yaw']), \"b\", label=\"yaw\")\n",
        "plt.ylabel(\"yaw angle [rad]\")\n",
        "plt.grid(True)\n",
        "\n",
        "plt.subplot(3,1,2)\n",
        "\n",
        "## INSERT CODE HERE\n",
        "v_soll = 40 / 3.6\n",
        "ay = v_soll**2 * trkdata['curvature']\n",
        "plt.plot(trkdata['s'], ay)\n",
        "plt.ylabel(\"Beschleunigung [m/s²]\")\n",
        "plt.grid(True)\n",
        "\n",
        "plt.subplot(3,1,3)\n",
        "v_desired = np.sqrt(-6 / trkdata['curvature'][np.argmax(abs(ay))])\n",
        "ay_max = v_desired**2 * trkdata['curvature']\n",
        "plt.plot(trkdata['s'], ay_max)\n",
        "plt.ylabel(\"Beschleunigung [m/s²]\")\n",
        "plt.grid(True)"
      ],
      "execution_count": null,
      "outputs": []
    },
    {
      "cell_type": "markdown",
      "metadata": {
        "id": "GQB7NDFLrmTi"
      },
      "source": [
        "## 3. Fahrdynamikmodell\n",
        "\n",
        "In der Bibliothek ``vehicle_model.py`` ist eine Klasse ``State`` definiert, mit der ein Fahrzeug simuliert werden kann.\n",
        "\n",
        "Diese Klasse hat folgende wichtige Funktion:\n",
        "\n",
        "```\n",
        "State.__init__(x=0.0, y=0.0, yaw=0.0, v=0.0, t=0.0):\n",
        "    Constructor setting the inital position (x,y), orientation (yaw), \n",
        "    speed of the vehicle (v), and initial simulation time (t).\n",
        "        \n",
        "State.update(acceleration, delta):\n",
        "    Update the state of the vehicle.\n",
        "    Parameter: acceleration: (float) acceleration\n",
        "               delta: (float) steering\n",
        "```\n",
        "\n",
        "und der Zustand des Fahrzeugs wird durch folgende Variablen beschrieben:\n",
        "\n",
        "```\n",
        "State.t: (float) current time\n",
        "State.x: (float) x-coordinate\n",
        "State.y: (float) y-coordinate\n",
        "State.yaw: (float) yaw angle\n",
        "State.v: (float) speed\n",
        "State.beta: (float) slip angle\n",
        "State.dyaw_dt: (float) time derivative of slip angle\n",
        "```\n",
        "\n",
        "\n",
        "### A 3.3\n",
        "\n",
        "Sehen Sie sich das unten angegebene Beispiel für die Verwendung der Klasse ``State`` an.\n",
        "\n",
        "Testen Sie den Simulator, indem Sie andere Stellsignale (Lenkwinkel und Beschleunigung) verwenden."
      ]
    },
    {
      "cell_type": "code",
      "metadata": {
        "id": "EFX0MSF4rmTj"
      },
      "source": [
        "# Load the following functions and constants from vehicle_model.py:\n",
        "#   State: a class for simulating the motion of a vehicle.\n",
        "#   normalize_angle: normalize an angle to [-pi, pi].\n",
        "#   veh_dim_x, veh_dim_y: [m] size of simulated vehicle (length, width)\n",
        "#   L: [m] Wheel base of vehicle\n",
        "from vehicle_model import State, normalize_angle, veh_dim_x, veh_dim_y, L\n",
        "\n",
        "\n",
        "## MODIFY HERE FOR EVALUATION\n",
        "S = State(v=v_desired)\n",
        "x, y = [S.x], [S.y]\n",
        "for i in range(30):\n",
        "    S.update(acceleration=0, delta=np.radians(15.0))\n",
        "    x.append(S.x)\n",
        "    y.append(S.y)\n",
        "    \n",
        "plt.plot(x, y, \"b\", label=\"vehicle position\")\n",
        "plt.legend()\n",
        "plt.xlabel(\"x[m]\")\n",
        "plt.ylabel(\"y[m]\")\n",
        "plt.axis(\"equal\")\n",
        "plt.grid(True)"
      ],
      "execution_count": null,
      "outputs": []
    },
    {
      "cell_type": "markdown",
      "metadata": {
        "id": "m9iCtbOtrmTj"
      },
      "source": [
        "## 4. Längsregelung\n",
        "\n",
        "Für die Längsregelung soll ein einfacher P-Regler implementiert werden, der als Eingang die Sollgeschwindigkeit und die Ist-Geschwindigkeit aufnimmt.\n",
        "\n",
        "### A3.4\n",
        "\n",
        "Vervollständigen Sie dazu den untenstehenden Code. "
      ]
    },
    {
      "cell_type": "code",
      "metadata": {
        "id": "TUsJvh-RrmTk"
      },
      "source": [
        "Kp = 1.0  # speed propotional gain\n",
        "\n",
        "def speed_control(target, current):\n",
        "    \"\"\"\n",
        "    Proportional control for the speed.\n",
        "    :param target: target speed (m/s)\n",
        "    :param current: current speed (m/s)\n",
        "    :return: controller output (m/ss)\n",
        "    \"\"\"\n",
        "    ## INSERT CODE HERE\n",
        "    return (target - current) * Kp\n",
        "    \n",
        "    ## END INSERTED CODE\n",
        "\n",
        "S = State(v=0)\n",
        "x, y, v = [S.x], [S.y], [S.v]\n",
        "for i in range(100):\n",
        "    acc = speed_control(v_desired, S.v)\n",
        "    S.update(acceleration=acc, delta=np.radians(10.0))\n",
        "    x.append(S.x)\n",
        "    y.append(S.y)\n",
        "    v.append(S.v)\n",
        "    \n",
        "plt.figure(figsize=(10,3))\n",
        "plt.subplot(1,2,1)\n",
        "plt.plot(x, y, \"b\", label=\"vehicle position\")\n",
        "plt.legend()\n",
        "plt.xlabel(\"x[m]\")\n",
        "plt.ylabel(\"y[m]\")\n",
        "plt.axis(\"equal\")\n",
        "plt.grid(True)  \n",
        "\n",
        "plt.subplot(1,2,2)\n",
        "plt.plot(v, \"g\", label=\"velocity\")\n",
        "plt.legend()\n",
        "plt.xlabel(\"idx\")\n",
        "plt.ylabel(\"v[m/s]\")\n",
        "plt.grid(True)"
      ],
      "execution_count": null,
      "outputs": []
    },
    {
      "cell_type": "markdown",
      "metadata": {
        "id": "P1h6oYTlrmTl"
      },
      "source": [
        "## 5. Querregelung mit dem dem Stanley-Regler\n",
        "\n",
        "Für den Querregler muss aus den durch diskrete Punkte vorgegebenen Spurverlauf zunächst der aktuelle Querversatz berechnet werden:\n",
        "![calcIndex.png](https://drive.google.com/uc?id=1mDOq3lLrQPgraxkdItuuFBBq5bii9sNx)\n",
        "\n",
        "Dies geschieht mit Hilfe der Funktion ```calc_target_index(state, cx, cy, cyaw)```. Veranschaulichen Sie sich, was dieser Code berechnet und zurückgibt."
      ]
    },
    {
      "cell_type": "code",
      "metadata": {
        "id": "WEHLZiILrmTl"
      },
      "source": [
        "def calc_target_index(state, cx, cy, cyaw):\n",
        "    \"\"\"\n",
        "    Compute index in the trajectory list of the target.\n",
        "\n",
        "    :param state: (State object)\n",
        "    :param cx: [m] x-coordinates of (sampled) desired trajectory\n",
        "    :param cy: [m] y-coordinates of (sampled) desired trajectory\n",
        "    :param cyaw: [rad] tangent angle of (sampled) desired trajectory\n",
        "    :return: (int, float)\n",
        "    \"\"\"\n",
        "    # Calc front axle position\n",
        "    fx = state.x + 0.5 * L * np.cos(state.yaw)\n",
        "    fy = state.y + 0.5 * L * np.sin(state.yaw)\n",
        "\n",
        "    # Search nearest point index\n",
        "    dx_vec = fx - np.asarray(cx).reshape([-1,1])\n",
        "    dy_vec = fy - np.asarray(cy).reshape([-1,1])\n",
        "    dist = np.hstack([dx_vec, dy_vec])\n",
        "    dist_2 = np.sum(dist**2, axis=1)\n",
        "    target_idx = np.argmin(dist_2)\n",
        "\n",
        "    # Project RMS error onto front axle vector\n",
        "    front_axle_vec = [np.cos(cyaw[target_idx] + np.pi / 2),\n",
        "                      np.sin(cyaw[target_idx] + np.pi / 2)]\n",
        "    error_front_axle = np.dot(dist[target_idx,:], front_axle_vec)\n",
        "\n",
        "    return target_idx, error_front_axle"
      ],
      "execution_count": null,
      "outputs": []
    },
    {
      "cell_type": "markdown",
      "metadata": {
        "id": "8rzCODykrmTm"
      },
      "source": [
        "### A3.5\n",
        "\n",
        "Vervollständigen Sie mit den Unterlagen aus der Vorlesung folgende Funktion für den Stanley-Regler.\n",
        "\n",
        "Hinweis: Achten Sie darauf, die Winkeldifferenz $\\psi_d$ mit Hilfe der Funktion ```normalize_angle```zu normalisieren."
      ]
    },
    {
      "cell_type": "code",
      "metadata": {
        "id": "esSkSZuHrmTm"
      },
      "source": [
        "k = 0.7  # control gain\n",
        "\n",
        "def stanley_control(state, cx, cy, cyaw, last_target_idx):\n",
        "    \"\"\"\n",
        "    Stanley steering control.\n",
        "\n",
        "    :param state: (State object)\n",
        "    :param cx: [m] x-coordinates of (sampled) desired trajectory\n",
        "    :param cy: [m] y-coordinates of (sampled) desired trajectory\n",
        "    :param cyaw: [rad] orientation of (sampled) desired trajectory\n",
        "    :param last_target_idx: [int] last visited point on desired trajectory\n",
        "    :return: ([rad] steering angle, \n",
        "        [int] last visited point on desired trajectory, \n",
        "        [m] cross track error at front axle)\n",
        "    \"\"\"\n",
        "    current_target_idx, error_front_axle = calc_target_index(state, cx, cy, cyaw)\n",
        "\n",
        "    # make sure that we never match a point on the desired path \n",
        "    # that we already passed earlier:\n",
        "    if last_target_idx >= current_target_idx:\n",
        "        current_target_idx = last_target_idx\n",
        "\n",
        "    ## INSERT CODE HERE\n",
        "    delta = normalize_angle(cyaw[current_target_idx] - state.yaw) + np.arctan2(-k * error_front_axle, state.v)\n",
        "    \n",
        "    ## END INSERTED CODE\n",
        "\n",
        "    return delta, current_target_idx, error_front_axle"
      ],
      "execution_count": null,
      "outputs": []
    },
    {
      "cell_type": "markdown",
      "metadata": {
        "id": "8CzsYYrNrmTn"
      },
      "source": [
        "## Putting it all together\n",
        "\n",
        "### A3.6\n",
        "\n",
        "Kombinieren Sie nun beide Regler, um der gegebenen Spur zu folgen. Beachten Sie dabei die resultierenden Querabweichungen."
      ]
    },
    {
      "cell_type": "code",
      "metadata": {
        "id": "7wKm2FHCrmTn"
      },
      "source": [
        "target_speed = v_desired\n",
        "max_simulation_time = 100.0\n",
        "\n",
        "# Initial state\n",
        "state = State(x=-0.0, y=5.0, yaw=np.radians(20.0), v=0.0)\n",
        "\n",
        "last_idx = len(trkdata['x']) - 1\n",
        "time = 0.0\n",
        "x = [state.x]\n",
        "y = [state.y]\n",
        "v = [state.v]\n",
        "yaw = [state.yaw]\n",
        "t = [state.t]\n",
        "e_track = [np.nan]\n",
        "target_idx, _ = calc_target_index(state, trkdata['x'], trkdata['y'], trkdata['yaw'])\n",
        "\n",
        "while max_simulation_time >= state.t and last_idx > target_idx:\n",
        "    ## INSERT CODE HERE\n",
        "    di, target_idx, dlat = stanley_control(state=state, cx= trkdata['x'], cy= trkdata['y'], cyaw= trkdata['yaw'], last_target_idx=target_idx)\n",
        "    ai = speed_control(target_speed, v[-1])\n",
        "    ## END INSERTED CODE\n",
        "    state.update(ai, di)\n",
        "\n",
        "    x.append(state.x)\n",
        "    y.append(state.y)\n",
        "    v.append(state.v)\n",
        "    yaw.append(state.yaw)\n",
        "    t.append(state.t)\n",
        "    e_track.append(dlat)\n",
        "\n",
        "# Test\n",
        "assert last_idx >= target_idx, \"Cannot reach goal\"\n",
        "\n",
        "plt.plot(trkdata['x'], trkdata['y'], \".r\", label=\"course\")\n",
        "plt.plot(x, y, \"-b\", label=\"trajectory\")\n",
        "plt.legend()\n",
        "plt.xlabel(\"x[m]\")\n",
        "plt.ylabel(\"y[m]\")\n",
        "plt.axis(\"equal\")\n",
        "plt.grid(True)\n",
        "\n",
        "plt.subplots(1)\n",
        "plt.plot(t, [iv * 3.6 for iv in v], \"-r\")\n",
        "plt.xlabel(\"Time[s]\")\n",
        "plt.ylabel(\"Speed[km/h]\")\n",
        "plt.grid(True)\n",
        "\n",
        "plt.subplots(1)\n",
        "plt.plot(t, e_track, \"-r\")\n",
        "plt.xlabel(\"Time[s]\")\n",
        "plt.ylabel(\"Crosstrack error[m]\")\n",
        "plt.grid(True)"
      ],
      "execution_count": null,
      "outputs": []
    },
    {
      "cell_type": "markdown",
      "metadata": {
        "id": "_Wl0y3CNrmTn"
      },
      "source": [
        "## 7. Animation\n",
        "\n",
        "In den beiden folgenden Zellen befindet sich Code, mit dem Sie Ihr Regelungsergebnis als Animation betrachten können."
      ]
    },
    {
      "cell_type": "code",
      "metadata": {
        "id": "yO0l_0nLrmTo"
      },
      "source": [
        "def getVehicleContours(pos_x, pos_y, yaw):\n",
        "    \"\"\"Compute object contours.\"\"\"\n",
        "\n",
        "    L_2, W_2 = veh_dim_x/2.0, veh_dim_y/2.0\n",
        "    u = np.array([\n",
        "        [0, -W_2, 1],    # 1\n",
        "        [L_2, -W_2, 1],  # 2\n",
        "        [L_2, W_2, 1],   # 3\n",
        "        [0, W_2, 1],     # 4\n",
        "        [L_2, 0, 1],     # 5\n",
        "        [0, -W_2, 1],    # 6\n",
        "        [0, W_2, 1],     # 7\n",
        "        [-L_2, W_2, 1],  # 8\n",
        "        [-L_2, -W_2, 1],  # 9\n",
        "        [0, -W_2, 1]     # 10\n",
        "    ]).T\n",
        "\n",
        "    T = np.array([\n",
        "        [np.cos(yaw), -np.sin(yaw), pos_x],\n",
        "        [np.sin(yaw), np.cos(yaw), pos_y]\n",
        "    ])\n",
        "\n",
        "    v = np.dot(T, u)\n",
        "    return v[0, :], v[1, :]"
      ],
      "execution_count": null,
      "outputs": []
    },
    {
      "cell_type": "code",
      "metadata": {
        "id": "XiqWzBjXrmTo"
      },
      "source": [
        "# First set up the figure, the axes, and the plot element\n",
        "fig, ax = plt.subplots(figsize=(8,8))\n",
        "plt.close()\n",
        "ax.axis(\"equal\")\n",
        "ax.grid(True)\n",
        "ax.set_xlim((-10, 110))\n",
        "ax.set_ylim((-60, 60))\n",
        "course, = ax.plot([], [], \"r.\", label=\"course\")\n",
        "trajectory, = ax.plot([], [], \"-b\", label=\"trajectory\")\n",
        "vehicle, = ax.plot([], [], \"b\", label=\"vehicle\")\n",
        "title_text = ax.text(.7, .9, '', transform = ax.transAxes)\n",
        "\n",
        "# initialization function: plot the background of each frame\n",
        "def init():\n",
        "    course.set_data(trkdata['x'], trkdata['y'])   \n",
        "    return (course,)\n",
        "  \n",
        "# animation function: this is called sequentially\n",
        "def animate(i):\n",
        "    trajectory.set_data(x[:i], y[:i])\n",
        "    px, py = getVehicleContours(x[i], y[i], yaw[i])\n",
        "    vehicle.set_data(px, py)\n",
        "    title_text.set_text((\"Speed[km/h]:\" + str(v[i] * 3.6)[:4]))\n",
        "    return (trajectory, vehicle, title_text, )\n",
        "\n",
        "anim = animation.FuncAnimation(fig, animate, init_func=init, frames=len(x), \n",
        "                               interval=50, blit=True)\n",
        "\n",
        "rc('animation', html='jshtml')\n",
        "anim"
      ],
      "execution_count": null,
      "outputs": []
    },
    {
      "cell_type": "code",
      "metadata": {
        "id": "a8ARkZ8xrmTo"
      },
      "source": [
        ""
      ],
      "execution_count": null,
      "outputs": []
    }
  ]
}