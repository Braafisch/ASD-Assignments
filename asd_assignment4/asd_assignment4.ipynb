{
  "nbformat": 4,
  "nbformat_minor": 0,
  "metadata": {
    "colab": {
      "name": "asd_assignment4.ipynb",
      "provenance": [],
      "collapsed_sections": [],
      "include_colab_link": true
    },
    "kernelspec": {
      "display_name": "Python 3",
      "language": "python",
      "name": "python3"
    },
    "language_info": {
      "codemirror_mode": {
        "name": "ipython",
        "version": 3
      },
      "file_extension": ".py",
      "mimetype": "text/x-python",
      "name": "python",
      "nbconvert_exporter": "python",
      "pygments_lexer": "ipython3",
      "version": "3.7.4"
    },
    "latex_envs": {
      "LaTeX_envs_menu_present": true,
      "autoclose": false,
      "autocomplete": true,
      "bibliofile": "biblio.bib",
      "cite_by": "apalike",
      "current_citInitial": 1,
      "eqLabelWithNumbers": true,
      "eqNumInitial": 1,
      "hotkeys": {
        "equation": "Ctrl-E",
        "itemize": "Ctrl-I"
      },
      "labels_anchors": false,
      "latex_user_defs": false,
      "report_style_numbering": false,
      "user_envs_cfg": false
    },
    "varInspector": {
      "cols": {
        "lenName": 16,
        "lenType": 16,
        "lenVar": 40
      },
      "kernels_config": {
        "python": {
          "delete_cmd_postfix": "",
          "delete_cmd_prefix": "del ",
          "library": "var_list.py",
          "varRefreshCmd": "print(var_dic_list())"
        },
        "r": {
          "delete_cmd_postfix": ") ",
          "delete_cmd_prefix": "rm(",
          "library": "var_list.r",
          "varRefreshCmd": "cat(var_dic_list()) "
        }
      },
      "types_to_exclude": [
        "module",
        "function",
        "builtin_function_or_method",
        "instance",
        "_Feature"
      ],
      "window_display": false
    }
  },
  "cells": [
    {
      "cell_type": "markdown",
      "metadata": {
        "id": "view-in-github",
        "colab_type": "text"
      },
      "source": [
        "<a href=\"https://colab.research.google.com/github/Braafisch/ASD-Assignments/blob/main/asd_assignment4/asd_assignment4.ipynb\" target=\"_parent\"><img src=\"https://colab.research.google.com/assets/colab-badge.svg\" alt=\"Open In Colab\"/></a>"
      ]
    },
    {
      "cell_type": "markdown",
      "metadata": {
        "id": "Th5uIHBjA5vq"
      },
      "source": [
        "## Vorlesung Automones Fahren, HS Esslingen, Thao Dang\n",
        "\n",
        "# Robuste Spurverlaufsschätzung mit RANSAC und M-Estimatoren\n",
        "\n",
        "## Vorbereitungen\n",
        "\n",
        "Nachdem Sie in der letzten Übung Spurparameter mit Hilfe eines Least-Squares(LS)-Schätzers bestimmt haben, werden Sie in dieser Übung zwei robuste LS-Schätzer implementieren: RANSAC und M-Estimatoren.\n",
        "\n",
        "Laden der Standard-Bibliotheken:"
      ]
    },
    {
      "cell_type": "code",
      "metadata": {
        "id": "P05JXIhGA5vr"
      },
      "source": [
        "import cv2\n",
        "import numpy as np\n",
        "import random\n",
        "import requests\n",
        "import shutil\n",
        "from matplotlib import pyplot as plt\n",
        "%matplotlib inline"
      ],
      "execution_count": null,
      "outputs": []
    },
    {
      "cell_type": "markdown",
      "metadata": {
        "id": "9i_t26lmA5vu"
      },
      "source": [
        "In der letzten Übung wurden Ihnen Punkte der linken und rechten Fahrbanmarkierungen als zwei separate Arrays vorgegeben. In der Realität ist aber a priori nicht einfach zu entscheiden, welche Kantenpunkte im Bild zu welcher Markierung gehören (bzw. ob Kantenpunkte überhaupt Teil einer Markierung sind): \n",
        "\n",
        "![markings](https://drive.google.com/uc?id=1UPhB_8l_5rOqDUWv5xluQrzx5fpTIPY1)\n",
        "\n",
        "In dieser Übung arbeiten Sie auf den nicht vorsortierten Markierungspunkten, die im Folgenden geladen werden."
      ]
    },
    {
      "cell_type": "code",
      "metadata": {
        "id": "ICQktpimm-ou"
      },
      "source": [
        "# Upload data - Colab ONLY!\n",
        "# pts_left_full.npy, pts_right_full.npy\n",
        "\n",
        "url = 'https://raw.githubusercontent.com/Braafisch/ASD-Assignments/main/asd_assignment4/pts_all.npy'\n",
        "response = requests.get(url, allow_redirects = True, stream = True).raw\n",
        "\n",
        "with open('pts_all.npy', 'wb') as fin:\n",
        "    shutil.copyfileobj(response, fin)"
      ],
      "execution_count": null,
      "outputs": []
    },
    {
      "cell_type": "code",
      "metadata": {
        "id": "K_xixyOMgV-w"
      },
      "source": [
        "M = np.load('pts_all.npy')\n",
        "\n",
        "plt.title('measurements')\n",
        "plt.plot(M[:, 1], M[:, 0], 'b.')\n",
        "plt.xlim(30, -30)\n",
        "plt.xlabel('Y [m]')\n",
        "plt.ylim(0, 60)\n",
        "plt.ylabel('X [m]')\n",
        "plt.grid(True);"
      ],
      "execution_count": null,
      "outputs": []
    },
    {
      "cell_type": "markdown",
      "metadata": {
        "id": "bVsYziCjA5wO"
      },
      "source": [
        "## 1. RANSAC\n",
        "\n",
        "Für die weiteren Schritte ist es wichtig zu unterscheiden, welche Punkte in ``M`` zum linken bzw. zum rechten Rand der Fahrspur gehören. Dies ist wie bereits beschrieben keine einfache Aufgabe, insbesondere wenn kein Vorwissen (z.B. aus dem vorangehenden Zeitschritt) gegeben ist. \n",
        "\n",
        "Wir verwenden hier einen einfachen Ansatz, bei dem wir einfach zwei Regions-Of-Interest (ROIs) für den linken und rechten Fahrspurrand definieren: \n",
        "![roi_left_right](https://drive.google.com/uc?id=1QccXcCXa696_90lRdCl8wnIZhjcpaIWP)\n",
        "\n",
        "Diese Einteilung ist sicher nicht fehlerfrei und es kann sogar vorkommen, dass der gleiche Messpunkt sowohl dem linken als auch dem rechten Fahrspurrand zugeordnet werden. Da wir  aber einen robusten Schätzer verwenden werden, können wir später solche fehlerhaften Zuordnungen erkennen und verwerfen.\n",
        "\n",
        "Hier der Code für die Aufteilung in linke und rechte Berandungspunkte ``lane_left`` und ``lane_right``, basierend auf der bereits bekannten Funktion ``cv2.pointPolygonTest``:"
      ]
    },
    {
      "cell_type": "code",
      "metadata": {
        "id": "mXuSUsq9gV-y"
      },
      "source": [
        "max_range_m = 45\n",
        "roi_right_line = np.array([\n",
        "    [0, 0], \n",
        "    [15, 0], \n",
        "    [max_range_m, 20], \n",
        "    [max_range_m, -30], \n",
        "    [0, -30] ])\n",
        "\n",
        "roi_left_line = np.array([\n",
        "    [0, 0], \n",
        "    [15, 0], \n",
        "    [max_range_m, -20], \n",
        "    [max_range_m, 30], \n",
        "    [0, 30] ])\n",
        "\n",
        "lane_left = np.empty((0,2))\n",
        "lane_right = np.empty((0,2))\n",
        "\n",
        "for i in range(M.shape[0]):\n",
        "    if cv2.pointPolygonTest(roi_left_line, (M[i,0], M[i,1]), False) > 0:\n",
        "        lane_left = np.vstack((lane_left, M[i,:])) \n",
        "    if cv2.pointPolygonTest(roi_right_line, (M[i,0], M[i,1]), False) > 0:\n",
        "        lane_right = np.vstack((lane_right, M[i,:])) \n",
        "        \n",
        "plt.title('measurements')\n",
        "plt.plot(lane_left[:, 1], lane_left[:, 0], 'ro', label='left lane pts')\n",
        "plt.plot(lane_right[:, 1], lane_right[:, 0], 'gs', label='right lane pts')\n",
        "plt.legend()\n",
        "plt.plot(roi_left_line[np.r_[0:roi_left_line.shape[0], 0], 1], \n",
        "         roi_left_line[np.r_[0:roi_left_line.shape[0], 0], 0], 'c')\n",
        "plt.plot(roi_right_line[np.r_[0:roi_right_line.shape[0], 0], 1], \n",
        "         roi_right_line[np.r_[0:roi_right_line.shape[0], 0], 0], 'y')\n",
        "plt.xlim(30, -30)\n",
        "plt.xlabel('Y [m]')\n",
        "plt.ylim(0, 60)\n",
        "plt.ylabel('X [m]')\n",
        "plt.grid(True);"
      ],
      "execution_count": null,
      "outputs": []
    },
    {
      "cell_type": "markdown",
      "metadata": {
        "id": "a-kbCM48gV-z"
      },
      "source": [
        "In der letzten Übung wurden Ihnen die Formeln für das Messmodell in Abhängigkeit des Parametervektors\n",
        "\n",
        "\\begin{equation}\n",
        "\\mathbf{z} = \\left[ W, Y_{\\mbox{offset}}, \\Delta \\phi, c_0 \\right]^T, \\tag{1}\n",
        "\\end{equation}\n",
        "\n",
        "vorgestellt. Sie benötigen in dieser Übung dieselben Gleichungen. Die Funktionen zur einfachen LS-Schätzung und Darstellung der Spur aus der letzten Übung sind schon vorgegeben. Koordinatenangaben sind jeweils in DIN70000."
      ]
    },
    {
      "cell_type": "code",
      "metadata": {
        "id": "sw7OIQXVgV-0"
      },
      "source": [
        "def LS_lane_fit(pL, pR):\n",
        "    \"\"\"\n",
        "    LS estimate for lane coeffients z=(W, Y_offset, Delta_Phi, c0)^T.\n",
        "    \n",
        "    Args:\n",
        "        pL: [NL, 2]-array of left marking positions (in DIN70000) \n",
        "        pR: [NR, 2]-array of right marking positions (in DIN70000)\n",
        "    \n",
        "    Returns:\n",
        "        Z: lane coeffients (W, Y_offset, Delta_Phi, c0)\n",
        "    \"\"\"\n",
        "    \n",
        "    H = np.zeros((pL.shape[0]+pR.shape[0], 4)) # design matrix\n",
        "    Y = np.zeros((pL.shape[0]+pR.shape[0], 1)) # noisy observations\n",
        "    \n",
        "    # fill H and Y for left line points\n",
        "    for i in range(pL.shape[0]):\n",
        "        u, v = pL[i,0], pL[i,1]\n",
        "        u2 = u*u\n",
        "        H[i, :] = [0.5, -1, -u, 1.0/2.0 * u2]\n",
        "        Y[i] = v\n",
        "\n",
        "    # fill H and Y for right line points\n",
        "    for i in range(pR.shape[0]):\n",
        "        u, v = pR[i,0], pR[i,1]\n",
        "        u2 = u*u\n",
        "        u3 = u2*u \n",
        "        H[pL.shape[0]+i, :] = [-0.5, -1, -u, 1.0/2.0 * u2]\n",
        "        Y[pL.shape[0]+i] = v\n",
        "\n",
        "    # compute optimal state vector Z\n",
        "    Z = np.dot(np.linalg.pinv(H), Y)\n",
        "    \n",
        "    return Z\n",
        "\n",
        "\n",
        "def LS_lane_compute(Z, maxDist=60, step=0.5):\n",
        "    \"\"\"\n",
        "    Compute lane points from given parameter vector.\n",
        "    \n",
        "    Args;\n",
        "        Z: lane coeffients (W, Y_offset, Delta_Phi, c0)\n",
        "        maxDist[=60]: distance up to which lane shall be computed\n",
        "        step[=0.5]: step size in x-direction (in m)\n",
        "       \n",
        "    Returns:\n",
        "        (x_pred, yl_pred, yr_pred): x- and y-positions of left and \n",
        "            right lane points\n",
        "    \"\"\"\n",
        "    x_pred = np.arange(0, maxDist, step)\n",
        "    yl_pred = np.zeros_like(x_pred)\n",
        "    yr_pred = np.zeros_like(x_pred)\n",
        "\n",
        "    for i in range(x_pred.shape[0]):\n",
        "        u = x_pred[i]\n",
        "        u2 = u*u\n",
        "        yl_pred[i] = np.dot( np.array([ 0.5, -1, -u, 1.0/2.0 * u2]), Z )\n",
        "        yr_pred[i] = np.dot( np.array([-0.5, -1, -u, 1.0/2.0 * u2]), Z )\n",
        "    \n",
        "    return (x_pred, yl_pred, yr_pred)"
      ],
      "execution_count": null,
      "outputs": []
    },
    {
      "cell_type": "markdown",
      "metadata": {
        "id": "iAZTydCJgV-1"
      },
      "source": [
        "Damit können wir eine erste LS-Schätzung durchführen:"
      ]
    },
    {
      "cell_type": "code",
      "metadata": {
        "id": "EP2oJFqZgV-2"
      },
      "source": [
        "Z_all = LS_lane_fit(lane_left, lane_right)\n",
        "x_pred, yl_pred, yr_pred = LS_lane_compute(Z_all)\n",
        "    \n",
        "plt.title('measurements')\n",
        "plt.plot(lane_left[:, 1], lane_left[:, 0], 'ro', label='left lane pts')\n",
        "plt.plot(lane_right[:, 1], lane_right[:, 0], 'gs', label='right lane pts')\n",
        "plt.legend()\n",
        "plt.plot(yl_pred, x_pred, 'b')\n",
        "plt.plot(yr_pred, x_pred, 'c')\n",
        "plt.xlim(30, -30)\n",
        "plt.xlabel('Y [m]')\n",
        "plt.ylim(0, 60)\n",
        "plt.ylabel('X [m]')\n",
        "plt.grid(True);"
      ],
      "execution_count": null,
      "outputs": []
    },
    {
      "cell_type": "markdown",
      "metadata": {
        "id": "nNjB99ABgV-4"
      },
      "source": [
        "Das Ergebnis ist nicht befriedigend! Grund hierfür ist, dass sich grobe Ausreißer in den Messdaten befinden: nicht alle Punkte in ``lane_left`` gehören zur linken Berandung und nicht alle Punkte in ``lane_right`` zur rechten Berandung. \n",
        "\n",
        "Da aber die Kleinsten-Quadrate-Schätzung einen Ausgleich über **alle** vorhandenen Messungen herstellt, erhalten wir ein unbrauchbares Ergebnis. Ein Lösungsansatz für dieses Problem sind robuste Schätzer."
      ]
    },
    {
      "cell_type": "markdown",
      "metadata": {
        "id": "eD3REc5DgV-4"
      },
      "source": [
        "### A1.1\n",
        "\n",
        "Für das in der Vorlesung beschriebene RANSAC Verfahren ist die Bestimmung von Ausreißern (engl. outlier) von zentraler Bedeutung: Beim RANSAC Verfahren ist diejenige Schätzung die beste, für welche die Anzahl der __Outlier__ minimal ist bzw. die Anzahl der __Inlier__ maximal.\n",
        "\n",
        "Um zu entscheiden, ob eine Messung ein inlier oder ein outlier ist, werden die sog. Residuen $r$ der Schätzung bestimmt. Residuen sind die Abstände der tatsächlichen gemessenen Größe (in unserem Fall der Querversatz Y_L oder Y_R) zun den erwarteten Messgrößen bei gegebenem Parametervektor $\\mathbf{Z}$ (hier der erwartete Querversatz entsprechend Gln. (2) und (3) der letzten Übung bei gegebenem $X_L$ bzw $X_R$). \n",
        "\n",
        "Ist ein solches Residuum betragsmäßig kleiner als eine gegebene Schwelle: $|r| < thresh$, handelt es sich um einen Inlier.\n",
        "\n",
        "Vervollständigen Sie zur Bestimmung der Inlier die beiden unten angeführten Funktionen\n",
        "``LS_lane_residuals(lane_left, lane_right, Z)`` zur Berechnung des Residuenvektors $r$ und \n",
        "``LS_lane_inliers(residual, thresh)`` zur Bestimmung der Anzahl an Inliern. "
      ]
    },
    {
      "cell_type": "code",
      "metadata": {
        "id": "LbWTLbLLm7-Z"
      },
      "source": [
        "def create_H(x_lane_left,x_lane_rigth):\n",
        "  length_left = x_lane_left.shape[0]\n",
        "  length_rigth = x_lane_rigth.shape[0]\n",
        "  H = np.zeros((length_left + length_rigth, 4))\n",
        "\n",
        "  H[:, 0] = np.append(np.full(x_lane_left.shape, 0.5), np.full(x_lane_rigth.shape, -0.5), axis= 0)\n",
        "  H[:, 1] = np.full(H.shape[0], -1)\n",
        "  H[:, 2] = -np.append(x_lane_left, x_lane_rigth, axis= 0)\n",
        "  H[:, 3] = 0.5*np.append(x_lane_left, x_lane_rigth, axis= 0)**2\n",
        "  return H"
      ],
      "execution_count": null,
      "outputs": []
    },
    {
      "cell_type": "code",
      "metadata": {
        "id": "niqd9YXIgV-5"
      },
      "source": [
        "def LS_lane_residuals(lane_left, lane_right, Z):\n",
        "    \n",
        "    \n",
        "    ## HIER CODE EINFUEGEN\n",
        "    H = create_H(lane_left[:,0], lane_right[:,0])\n",
        "    yl_pred = np.dot(H, Z)\n",
        "    residual = np.absolute(yl_pred[:,0] - np.append(lane_left[:,1], lane_right[:,1]))\n",
        "    ## EIGENER CODE ENDE\n",
        "\n",
        "    return residual\n",
        "\n",
        "\n",
        "def LS_lane_inliers(residual, thresh):\n",
        "    \n",
        "    ## HIER CODE EINFUEGEN\n",
        "    return len(residual[residual <= thresh])\n",
        "    ## EIGENER CODE ENDE\n",
        "    \n",
        "    \n",
        "# test with previous estimate\n",
        "residual = LS_lane_residuals(lane_left, lane_right, Z_all)\n",
        "#print(residual)\n",
        "print('Found %d inliers (of %d total points).' % \n",
        "      (LS_lane_inliers(residual, 0.4), lane_left.shape[0]+lane_right.shape[0]))"
      ],
      "execution_count": null,
      "outputs": []
    },
    {
      "cell_type": "markdown",
      "metadata": {
        "id": "kUOni8x2gV-5"
      },
      "source": [
        "### A1.2\n",
        "\n",
        "Mit diesen Funktionen kann schliesslich der RANSAC Schätzer für die Spurparameter implementiert werden. Orientieren Sie sich dazu an den Vorlesungsfolien.\n",
        "\n",
        "Bestimmen Sie experimentell eine \"gute\" Anzahl von Iterationen, um ein zufriedenstellendes Ergebnis zu erhalten."
      ]
    },
    {
      "cell_type": "code",
      "metadata": {
        "id": "2oUW_pubgV-6"
      },
      "source": [
        "# RANSAC\n",
        "S = 4\n",
        "dist_thresh = 0.4\n",
        "max_num_inliers = 0\n",
        "Z_opt = None\n",
        "num_iters = 50\n",
        "\n",
        "for i in range(num_iters):\n",
        "    # draw S//2 random indices for points in lane_left and lane_right, respectively\n",
        "    idx_left = random.sample(range(lane_left.shape[0]), S//2) \n",
        "    idx_right = random.sample(range(lane_right.shape[0]), S//2)\n",
        "\n",
        "    ## HIER CODE EINFUEGEN\n",
        "    Z = LS_lane_fit(lane_left[idx_left], lane_right[idx_right])\n",
        "    residual = LS_lane_residuals(lane_left, lane_right, Z)\n",
        "    inliers = LS_lane_inliers(residual, dist_thresh)\n",
        "    if inliers > max_num_inliers:\n",
        "      Z_opt = Z\n",
        "      max_num_inliers = inliers\n",
        "    ## EIGENER CODE ENDE\n",
        "\n",
        "    \n",
        "x_pred, yl_pred, yr_pred = LS_lane_compute(Z_opt)\n",
        "print(\"Current best solution: \", Z_opt.T)\n",
        "print(\"with %d inliers (of %d measurements).\" % (max_num_inliers, lane_left.shape[0]+lane_right.shape[0]))\n",
        "\n",
        "\n",
        "plt.title('measurements')\n",
        "plt.plot(lane_left[:, 1], lane_left[:, 0], 'r.')\n",
        "plt.plot(lane_right[:, 1], lane_right[:, 0], 'g.')\n",
        "plt.plot(yl_pred, x_pred, 'b')\n",
        "plt.plot(yr_pred, x_pred, 'c')\n",
        "plt.xlim(30, -30)\n",
        "plt.xlabel('Y [m]')\n",
        "plt.ylim(0, 60)\n",
        "plt.ylabel('X [m]')\n",
        "plt.grid(True);"
      ],
      "execution_count": null,
      "outputs": []
    },
    {
      "cell_type": "markdown",
      "metadata": {
        "id": "VCASomTXgV-6"
      },
      "source": [
        "## 2. M-Estimator\n",
        "\n",
        "Eine etwas schnellere Methode zur Bestimmung der Spurparameter, die allerdings eine vernünftige Anfangsschätzung (z.B. aus dem vorangehenden Zeitschritt) erfordert, ist die Verwendung von M-Estimatoren. Diese sind in den Vorlesungsfolien beschrieben.\n",
        "\n",
        "### A2.1\n",
        "\n",
        "Als Gewichtsfunktion für den M-Estimator verwenden wir hier eine Cauchy-Funktion:\n",
        "\n",
        "$$\n",
        "w_i = \\frac{1}{1+\\left( \\frac{r_i}{c} \\right)^2}\n",
        "$$\n",
        "\n",
        "Hierbei bezeichnet\n",
        "* $r_i$ die $i$-te Komponente des Residuenvektors,\n",
        "* $w_i$ das resultierende Gewicht für diese Komponente, \n",
        "* $c = 2.3849 \\sigma$ eine Skalierungskonstante und\n",
        "* $\\sigma$ die erwartete Standardabweichung der Messfehler der Inlier.\n",
        "\n",
        "Implementieren Sie die Cauchy-Funkction für einen gegebenen Residuenvektor."
      ]
    },
    {
      "cell_type": "code",
      "metadata": {
        "id": "39Tagx8fgV-6"
      },
      "source": [
        "def Cauchy(r, sigma=1):\n",
        "    \"\"\"\n",
        "    Cauchy loss function.\n",
        "    \n",
        "    Args:\n",
        "        r: resiudals\n",
        "        sigma: expected standard deviation of inliers\n",
        "        \n",
        "    Returns:\n",
        "        w: vector of weight coefficients\n",
        "    \"\"\"\n",
        "    ## HIER CODE EINFUEGEN\n",
        "    c = 2.3849*sigma\n",
        "    return 1 / (1 + (r/c)**2)\n",
        "    ## EIGENER CODE ENDE\n",
        "    \n",
        "\n",
        "# test Cauchy function\n",
        "r = np.arange(-8,8,0.1)\n",
        "plt.plot(r, Cauchy(r), 'b')\n",
        "plt.title('Cauchy function')\n",
        "plt.xlabel('r')\n",
        "plt.ylabel('w')\n",
        "plt.grid(True);"
      ],
      "execution_count": null,
      "outputs": []
    },
    {
      "cell_type": "markdown",
      "metadata": {
        "id": "Q8kjfztygV-7"
      },
      "source": [
        "### A2.2\n",
        "\n",
        "Verwenden Sie die oben beschriebene Gewichtsfunktion, um einen M-Estimator wie in der Vorlesung besprochen zu implementieren. \n",
        "\n",
        "Untersuchen Sie dabei verschiedene Parameter für die maximale Anzahl an Iterationen und für unterschiedliche Standardabweichungen $\\sigma$ der Inlier."
      ]
    },
    {
      "cell_type": "code",
      "metadata": {
        "id": "gbj09NJtgV-7"
      },
      "source": [
        "def MEstimator_lane_fit(pL, pR, Z_initial, sigma=1, maxIteration=10):\n",
        "    \"\"\"\n",
        "    M-Estimator for lane coeffients z=(W, Y_offset, Delta_Phi, c0)^T.\n",
        "    \n",
        "    Args:\n",
        "        pL: [NL, 2]-array of left marking positions (in DIN70000) \n",
        "        pR: [NR, 2]-array of right marking positions (in DIN70000)\n",
        "        Z_initial: the initial guess of the parameter vector\n",
        "        sigma: the expecvted standard deviation of the inliers\n",
        "        maxIteration: max number of iterations\n",
        "    \n",
        "    Returns:\n",
        "        Z: lane coeffients (W, Y_offset, Delta_Phi, c0)\n",
        "    \"\"\"\n",
        "    \n",
        "    H = np.zeros((pL.shape[0]+pR.shape[0], 4)) # design matrix\n",
        "    Y = np.zeros((pL.shape[0]+pR.shape[0], 1)) # noisy observations\n",
        "    \n",
        "    # fill H and Y for left line points\n",
        "    for i in range(pL.shape[0]):\n",
        "        u, v = pL[i,0], pL[i,1]\n",
        "        u2 = u*u\n",
        "        H[i, :] = [0.5, -1, -u, 1.0/2.0 * u2]\n",
        "        Y[i] = v\n",
        "\n",
        "    # fill H and Y for right line points\n",
        "    for i in range(pR.shape[0]):\n",
        "        u, v = pR[i,0], pR[i,1]\n",
        "        u2 = u*u\n",
        "        u3 = u2*u \n",
        "        H[pL.shape[0]+i, :] = [-0.5, -1, -u, 1.0/2.0 * u2]\n",
        "        Y[pL.shape[0]+i] = v\n",
        "        \n",
        "    ## HIER CODE EINFUEGEN\n",
        "    for _ in range(maxIteration):\n",
        "      r = np.dot(H, np.asarray(Z_initial).reshape(4,1)) - Y\n",
        "      assert r.shape == (H.shape[0], 1)\n",
        "      w = Cauchy(r, sigma)\n",
        "      assert w.shape == r.shape\n",
        "      W = np.diag(w[:,0])\n",
        "      assert W.shape == (w.shape[0], w.shape[0])\n",
        "      Z = np.linalg.multi_dot([np.linalg.inv(np.linalg.multi_dot([H.T, W, H])), H.T, W, Y])\n",
        "      assert Z.shape == (4, 1)\n",
        "      Z_initial = Z \n",
        "    ## EIGENER CODE ENDE\n",
        "    \n",
        "    return Z\n",
        "\n",
        "\n",
        "# initial estimate: straight road \n",
        "Z_initial = np.array([4, -2, 0, 0]).T \n",
        "\n",
        "# refine initial estimate via M-Estimator\n",
        "Z_MEst = MEstimator_lane_fit(lane_left, lane_right, Z_initial, \n",
        "                             sigma=0.2, maxIteration=10)\n",
        "\n",
        "# draw result\n",
        "x_pred, yl_pred, yr_pred = LS_lane_compute(Z_MEst)\n",
        "plt.title('measurements')\n",
        "plt.plot(lane_left[:, 1], lane_left[:, 0], 'r.')\n",
        "plt.plot(lane_right[:, 1], lane_right[:, 0], 'g.')\n",
        "plt.plot(yl_pred, x_pred, 'b')\n",
        "plt.plot(yr_pred, x_pred, 'c')\n",
        "plt.xlim(30, -30)\n",
        "plt.xlabel('Y [m]')\n",
        "plt.ylim(0, 60)\n",
        "plt.ylabel('X [m]')\n",
        "plt.grid(True);"
      ],
      "execution_count": null,
      "outputs": []
    }
  ]
}