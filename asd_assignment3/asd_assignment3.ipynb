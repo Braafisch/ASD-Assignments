{
  "nbformat": 4,
  "nbformat_minor": 0,
  "metadata": {
    "colab": {
      "name": "asd_assignment3.ipynb",
      "provenance": [],
      "collapsed_sections": [],
      "include_colab_link": true
    },
    "kernelspec": {
      "display_name": "Python 3",
      "language": "python",
      "name": "python3"
    },
    "language_info": {
      "codemirror_mode": {
        "name": "ipython",
        "version": 3
      },
      "file_extension": ".py",
      "mimetype": "text/x-python",
      "name": "python",
      "nbconvert_exporter": "python",
      "pygments_lexer": "ipython3",
      "version": "3.7.4"
    },
    "latex_envs": {
      "LaTeX_envs_menu_present": true,
      "autoclose": false,
      "autocomplete": true,
      "bibliofile": "biblio.bib",
      "cite_by": "apalike",
      "current_citInitial": 1,
      "eqLabelWithNumbers": true,
      "eqNumInitial": 1,
      "hotkeys": {
        "equation": "Ctrl-E",
        "itemize": "Ctrl-I"
      },
      "labels_anchors": false,
      "latex_user_defs": false,
      "report_style_numbering": false,
      "user_envs_cfg": false
    },
    "varInspector": {
      "cols": {
        "lenName": 16,
        "lenType": 16,
        "lenVar": 40
      },
      "kernels_config": {
        "python": {
          "delete_cmd_postfix": "",
          "delete_cmd_prefix": "del ",
          "library": "var_list.py",
          "varRefreshCmd": "print(var_dic_list())"
        },
        "r": {
          "delete_cmd_postfix": ") ",
          "delete_cmd_prefix": "rm(",
          "library": "var_list.r",
          "varRefreshCmd": "cat(var_dic_list()) "
        }
      },
      "types_to_exclude": [
        "module",
        "function",
        "builtin_function_or_method",
        "instance",
        "_Feature"
      ],
      "window_display": false
    }
  },
  "cells": [
    {
      "cell_type": "markdown",
      "metadata": {
        "id": "view-in-github",
        "colab_type": "text"
      },
      "source": [
        "<a href=\"https://colab.research.google.com/github/Braafisch/ASD-Assignments/blob/main/asd_assignment3/asd_assignment3.ipynb\" target=\"_parent\"><img src=\"https://colab.research.google.com/assets/colab-badge.svg\" alt=\"Open In Colab\"/></a>"
      ]
    },
    {
      "cell_type": "markdown",
      "metadata": {
        "id": "Th5uIHBjA5vq"
      },
      "source": [
        "## Vorlesung Automones Fahren, HS Esslingen, Thao Dang\n",
        "\n",
        "# Spurverlaufsschätzung\n",
        "\n",
        "## Vorbereitungen\n",
        "\n",
        "In diesem Programmierbeispiel lernen Sie eine einfache Spurverlaufsschätzung basierend auf einem Kleinste-Quadrate-Schätzer (oder auch Least-Squares(LS)-Schätzer) kennen. In der nächsten Übung werden Sie diesen Schätzer dann verbessern, indem Sie robuste Schätzverfahren implementieren.\n",
        "\n",
        "Laden der Standard-Bibliotheken:"
      ]
    },
    {
      "cell_type": "code",
      "metadata": {
        "id": "P05JXIhGA5vr"
      },
      "source": [
        "import cv2\n",
        "import numpy as np\n",
        "from matplotlib import pyplot as plt\n",
        "%matplotlib inline"
      ],
      "execution_count": null,
      "outputs": []
    },
    {
      "cell_type": "markdown",
      "metadata": {
        "id": "9i_t26lmA5vu"
      },
      "source": [
        "Für diese Aufgaben wurden Bilder aus der [Kitti Datenbank](http://www.cvlibs.net/datasets/kitti/), einem frei zugänglichen Benchmark-Dataset für Computer Vision, verwendet. Aus diesen wurden Spurmarkierung extrahiert, rlevante Markierungspunkte  und die Position der Spurmarkierungen in ein DIN70000 Fahrzeugkoordinatensystem transformiert.\n",
        "\n",
        "![markings](https://drive.google.com/uc?id=1UPhB_8l_5rOqDUWv5xluQrzx5fpTIPY1)\n",
        "\n",
        "Diese Punkte werden im folgenden geladen."
      ]
    },
    {
      "cell_type": "code",
      "metadata": {
        "id": "13ap9HRxA5vv"
      },
      "source": [
        "# Upload images - Colab ONLY!\n",
        "# pts_left.npy, pts_right.npy\n",
        "try: \n",
        "    from google.colab import files\n",
        "\n",
        "    uploaded = files.upload()\n",
        "\n",
        "    for fn in uploaded.keys():\n",
        "        print('User uploaded file \"{name}\" with length {length} bytes'.format(\n",
        "            name=fn, length=len(uploaded[fn])))\n",
        "\n",
        "except:\n",
        "    print('Not using Colab or error uploading files.')"
      ],
      "execution_count": null,
      "outputs": []
    },
    {
      "cell_type": "code",
      "metadata": {
        "id": "fDLGCSgJeANX"
      },
      "source": [
        "lane_left = np.load('pts_left.npy')\n",
        "lane_right = np.load('pts_right.npy')\n",
        "\n",
        "plt.title('measurements')\n",
        "plt.plot(lane_left[:, 1], lane_left[:, 0], 'r.')\n",
        "plt.plot(lane_right[:, 1], lane_right[:, 0], 'g.')\n",
        "plt.xlim(30, -30)\n",
        "plt.xlabel('Y [m]')\n",
        "plt.ylim(0, 60)\n",
        "plt.ylabel('X [m]')\n",
        "plt.grid(True);"
      ],
      "execution_count": null,
      "outputs": []
    },
    {
      "cell_type": "markdown",
      "metadata": {
        "id": "bVsYziCjA5wO"
      },
      "source": [
        "## 1. Kleinste-Quadrate-Schätzung\n",
        "\n",
        "Das in diesem Beispiel verwendete geometrische Spurmodell ist eine vereinfachte Version des der [Dissertation \"Dreidimensionale Straßenmodelle für Fahrerassistenzsysteme auf Landstraßen\"](https://publikationen.bibliothek.kit.edu/1000030918) vorgestellten Modells: \n",
        "\n",
        "![Spurmodell.png](https://drive.google.com/uc?id=1X4wEJQ3h5J_yW-ce2NhzKLBVrcIU31MJ)\n",
        "\n",
        "Die Parametervektor zur Beschreibung dieser Spur lautet \n",
        "\n",
        "\\begin{equation}\n",
        "\\mathbf{z} = \\left[ W, Y_{\\mbox{offset}}, \\Delta \\phi, c_0 \\right]^T, \\tag{1}\n",
        "\\end{equation}\n",
        "\n",
        "wobei W die Strassenbreite, $Y_{\\mbox{offset}}$ den Querversatz des Fahrzeugs zur Spurmitte, $\\Delta \\phi$ den Winkel zur Spur und $c_0$ einen Parabelkoeffizienten bezeichnet.\n",
        "\n",
        "Mit Hilfe dieser Parameter kann die Position eines Punktes der linken Fahrbahnberandung näherungsweise durch\n",
        "\n",
        "\\begin{equation} \n",
        "Y_L = \\frac{1}{2} W - Y_{\\mbox{offset}} - X_L \\Delta \\phi + \\frac{1}{2} c_0 X_L^2 \\tag{2}\n",
        "\\end{equation}\n",
        "\n",
        "angegeben werden. Für die rechte Fahrbahnberandung gilt analog:\n",
        "\n",
        "\\begin{equation} \n",
        "Y_R = - \\frac{1}{2} W - Y_{\\mbox{offset}} - X_R \\Delta \\phi + \\frac{1}{2} c_0 X_R^2 \\tag{3}\n",
        "\\end{equation}\n",
        "\n",
        "Diese Gleichungen sind die Grundlage der Modellgleichung für die Kleinste-Quadrate-Schätzung der Spurparameter.\n",
        "\n",
        "**Modellgleichung**\n",
        "\n",
        "Gegeben seien zunächst mehrere Berandungspunkte $\\mathbf{p}_L$ und $\\mathbf{p}_R$ (in DIN70000 Koordinaten) der linken bzw. rechten Spurberandung:\n",
        "\n",
        "\\begin{equation}\n",
        "\\mathbf{p}_L = \\left[ \\begin{array}{cc} \n",
        "    X_{L,1} & Y_{L,1} \\\\\n",
        "    \\vdots & \\vdots \\\\\n",
        "    X_{L,N} & Y_{L,N}\n",
        "\\end{array} \\right] \\;, \\;\\;\\;\\;\n",
        "\\mathbf{p}_R = \\left[ \\begin{array}{cc} \n",
        "    X_{R,1} & Y_{R,1} \\\\\n",
        "    \\vdots & \\vdots \\\\\n",
        "    X_{R,N} & Y_{R,M}\n",
        "\\end{array} \\right]\n",
        "\\end{equation}\n",
        "\n",
        "Bestimmen Sie (in Anlehnung an die Vorlesungsunterlagen und Gln. (2) und (3)) die Designmatrix $\\mathbf{H}$ und den Beobachtungsvektor $\\mathbf{y}$, sodass gilt:\n",
        "\n",
        "\\begin{equation}\n",
        "\\mathbf{y} = \\left[ \\begin{array}{c} \n",
        "    Y_{L,1} \\\\\n",
        "    \\vdots \\\\\n",
        "    Y_{L,N} \\\\\n",
        "    Y_{R,1} \\\\\n",
        "    \\vdots \\\\\n",
        "    Y_{R,M}\n",
        "\\end{array} \\right] = \\mathbf{H} \\, \\mathbf{z} + \\mathbf{e} \\tag{4}\n",
        "\\end{equation}\n",
        "\n",
        "\n",
        "**Berechnung der Spurparameter**\n",
        "\n",
        "Bestimmen Sie die optimalen Spurparameter $\\mathbf{\\hat{z}}$ nach der Methode der kleinsten Parameter, d.h.\n",
        "\n",
        "\\begin{equation}\n",
        "\\mathbf{\\hat{z}} = \\left( \\mathbf{H}^T \\mathbf{H} \\right)^{-1} \\mathbf{H}^T \\, \\mathbf{y} \\tag{5}\n",
        "\\end{equation}\n",
        "\n",
        "\n",
        "Vervollständigen Sie die Funktion ``LS_lane_fit(pL, pR)``, welche aus den Berandungspunkten $p_L$ und $p_R$ sowie den Gln (4) und (5) die optimalen Spurparameter berechnet und zurückgibt. Vergleichen Sie Ihr Ergebnis mit den wahren Werten von $\\mathbf{\\hat{z}}$.\n",
        "\n",
        "**Hinweis:** Zwei ``numpy``-Befehle, die dazu nützlich sein könnten:\n",
        "1. ``np.dot(A, B)`` berechnet das Matrixprodukt $\\mathbf{A} \\cdot \\mathbf{B}$.\n",
        "2. ``np.linalg.pinv(H)`` berechnet die Pseudoinverse $\\left( \\mathbf{H}^T \\mathbf{H} \\right)^{-1} \\mathbf{H}^T$ von $\\mathbf{H}$.  "
      ]
    },
    {
      "cell_type": "code",
      "metadata": {
        "id": "9Wvc8JtxA5wP"
      },
      "source": [
        "pL = np.array([[27.47, 1.57], [20.50, 1.79], [6.77, 2.06]])\n",
        "pR = np.array([[44.34, -2.99], [22.89, -2.03], [7.38, -1.72]])\n",
        "\n",
        "\n",
        "def LS_lane_fit(pL, pR):\n",
        "    H = np.zeros((pL.shape[0]+pR.shape[0], 4)) # design matrix\n",
        "    Y = np.zeros((pL.shape[0]+pR.shape[0], 1)) # noisy observations\n",
        "\n",
        "    ## HIER CODE EINFUEGEN\n",
        "    Y = np.asmatrix(np.append(pL[:,1], pR[:,1], axis= 0)).T\n",
        "    \n",
        "    H[:, 0] = np.append(np.full(pL.shape[0], 0.5), np.full(pR.shape[0], -0.5), axis= 0)\n",
        "    H[:, 1] = np.full(H.shape[0], -1)\n",
        "    H[:, 2] = -np.append(pL[:,0], pR[:,0], axis= 0)\n",
        "    H[:, 3] = 0.5*np.append(pL[:,0], pR[:,0], axis= 0)**2\n",
        "\n",
        "    Z = np.dot(np.linalg.pinv(H), Y)\n",
        "    \n",
        "    ## EIGENER CODE ENDE\n",
        "    \n",
        "    return Z\n",
        "\n",
        "\n",
        "Z = LS_lane_fit(pL, pR)\n",
        "print('Estimated lane parameters:')\n",
        "print(Z.T)\n",
        "print('Expected lane parameters:')\n",
        "print('[[ 3.76145399e+00 -2.11954070e-01  1.38925253e-03 -1.28124172e-03]]')"
      ],
      "execution_count": null,
      "outputs": []
    },
    {
      "cell_type": "markdown",
      "metadata": {
        "id": "9b27BKgXA5wQ"
      },
      "source": [
        "## 2. Visualisierung der Spur\n",
        "\n",
        "Um den Spurverlauf zu visualisieren, können aus Gln. (2) und (3)  für gegebene Spurparameter $\\mathbf{z}$ und gegebene Entfernungen $\\mathbf{X}_{pred}$ die erwarteten Querablagen  $\\mathbf{Y}_{L,pred}$ und  $\\mathbf{Y}_{R,pred}$ berechnet werden. \n",
        "\n",
        "Ergänzen Sie dazu die Funktion ```LS_lane_compute(Z, maxDist=60, step=0.5)```. Eingangsparameter sind die Spurparameter ``Z``, sowie die maximal darzustellende Entfernung ``maxDist`` sowie die Schrittweite in X-Richtung ``step`` (beide in Metern)."
      ]
    },
    {
      "cell_type": "code",
      "metadata": {
        "id": "6ns4XiSoA5wR"
      },
      "source": [
        "def LS_lane_compute(Z, maxDist=60, step=0.5):\n",
        "    x_pred = np.arange(0, maxDist, step)\n",
        "    yl_pred = np.zeros_like(x_pred)\n",
        "    yr_pred = np.zeros_like(x_pred)\n",
        "\n",
        "    ## HIER CODE EINFUEGEN\n",
        "    Hl = np.zeros((x_pred.shape[0], 4))\n",
        "    Hl[:, 0] = np.full(x_pred.shape, 0.5)\n",
        "    Hl[:, 1] = np.full(x_pred.shape, -1)\n",
        "    Hl[:, 2] = -x_pred\n",
        "    Hl[:, 3] = 0.5*x_pred**2\n",
        "    yl_pred = np.dot(Hl, Z)\n",
        "\n",
        "    Hr = np.zeros((x_pred.shape[0], 4))\n",
        "    Hr[:, 0] = np.full(x_pred.shape, -0.5)\n",
        "    Hr[:, 1] = np.full(x_pred.shape, -1)\n",
        "    Hr[:, 2] = -x_pred\n",
        "    Hr[:, 3] = 0.5*x_pred**2\n",
        "    yr_pred = np.dot(Hr, Z)\n",
        "    ## EIGENER CODE ENDE\n",
        "    \n",
        "    return (x_pred, yl_pred, yr_pred)\n",
        "\n",
        "\n",
        "x_pred, yl_pred, yr_pred = LS_lane_compute(Z)\n",
        "    \n",
        "plt.title('measurements')\n",
        "plt.plot(pL[:, 1], pL[:, 0], 'rs')\n",
        "plt.plot(pR[:, 1], pR[:, 0], 'gs')\n",
        "plt.plot(yl_pred, x_pred, 'b')\n",
        "plt.plot(yr_pred, x_pred, 'c')\n",
        "plt.xlim(30, -30)\n",
        "plt.xlabel('Y [m]')\n",
        "plt.ylim(0, 60)\n",
        "plt.ylabel('X [m]')\n",
        "plt.grid(True);"
      ],
      "execution_count": null,
      "outputs": []
    },
    {
      "cell_type": "markdown",
      "metadata": {
        "id": "8pNXh3MPA5wT"
      },
      "source": [
        "## 3. Anwendung auf extrahierte Markierungspositionen\n",
        "\n",
        "Damit sind alle Funktionen für die Kleinste-Quadrate-Berechnung sowie die Visualisierung des Spurverlaufs vorhanden.\n",
        "\n",
        "Wenden Sie Ihren Code auf die gegebenen Realdaten an und visualisieren Sie die Messungen und den ermittelten Spurverlauf."
      ]
    },
    {
      "cell_type": "code",
      "metadata": {
        "id": "jJWlPLSBA5wU"
      },
      "source": [
        "Z = LS_lane_fit(lane_left, lane_right)\n",
        "\n",
        "x_pred, yl_pred, yr_pred = LS_lane_compute(Z)\n",
        "\n",
        "plt.title('measurements')\n",
        "plt.plot(lane_left[:, 1], lane_left[:, 0], 'ro', label='left lane pts')\n",
        "plt.plot(lane_right[:, 1], lane_right[:, 0], 'gs', label='right lane pts')\n",
        "plt.legend()\n",
        "plt.plot(yl_pred, x_pred, 'b')\n",
        "plt.plot(yr_pred, x_pred, 'c')\n",
        "plt.xlim(30, -30)\n",
        "plt.xlabel('Y [m]')\n",
        "plt.ylim(0, 60)\n",
        "plt.ylabel('X [m]')\n",
        "plt.grid(True);"
      ],
      "execution_count": null,
      "outputs": []
    },
    {
      "cell_type": "markdown",
      "metadata": {
        "id": "9t0be7veA5wZ"
      },
      "source": [
        "## 4. Residuenanalyse\n",
        "\n",
        "Berechnen Sie nun die Residuen der Spurverlaufsschätzung. Was fällt Ihnen dabei auf?"
      ]
    },
    {
      "cell_type": "code",
      "metadata": {
        "id": "kT4hgI7PeANh"
      },
      "source": [
        "def create_H(x_lane_left,x_lane_rigth):\n",
        "  length_left = x_lane_left.shape[0]\n",
        "  length_rigth = x_lane_rigth.shape[0]\n",
        "  H = np.zeros((length_left + length_rigth, 4))\n",
        "\n",
        "  H[:, 0] = np.append(np.full(x_lane_left.shape, 0.5), np.full(x_lane_rigth.shape, -0.5), axis= 0)\n",
        "  H[:, 1] = np.full(H.shape[0], -1)\n",
        "  H[:, 2] = -np.append(x_lane_left, x_lane_rigth, axis= 0)\n",
        "  H[:, 3] = 0.5*np.append(x_lane_left, x_lane_rigth, axis= 0)**2\n",
        "  return H\n",
        "\n",
        "H = create_H(lane_left[:,0], lane_right[:,0])                          # design matrix\n",
        "Y = np.asmatrix(np.append(lane_left[:,1], lane_right[:,1], axis= 0)).T # noisy observations\n",
        "\n",
        "res = np.dot(H, Z) - Y\n",
        "\n",
        "plt.hist(res, 100);"
      ],
      "execution_count": null,
      "outputs": []
    }
  ]
}