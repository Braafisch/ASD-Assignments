{
  "nbformat": 4,
  "nbformat_minor": 0,
  "metadata": {
    "kernelspec": {
      "display_name": "Python 3",
      "language": "python",
      "name": "python3"
    },
    "language_info": {
      "codemirror_mode": {
        "name": "ipython",
        "version": 3
      },
      "file_extension": ".py",
      "mimetype": "text/x-python",
      "name": "python",
      "nbconvert_exporter": "python",
      "pygments_lexer": "ipython3",
      "version": "3.7.4"
    },
    "latex_envs": {
      "LaTeX_envs_menu_present": true,
      "autoclose": false,
      "autocomplete": true,
      "bibliofile": "biblio.bib",
      "cite_by": "apalike",
      "current_citInitial": 1,
      "eqLabelWithNumbers": true,
      "eqNumInitial": 1,
      "hotkeys": {
        "equation": "Ctrl-E",
        "itemize": "Ctrl-I"
      },
      "labels_anchors": false,
      "latex_user_defs": false,
      "report_style_numbering": false,
      "user_envs_cfg": false
    },
    "varInspector": {
      "cols": {
        "lenName": 16,
        "lenType": 16,
        "lenVar": 40
      },
      "kernels_config": {
        "python": {
          "delete_cmd_postfix": "",
          "delete_cmd_prefix": "del ",
          "library": "var_list.py",
          "varRefreshCmd": "print(var_dic_list())"
        },
        "r": {
          "delete_cmd_postfix": ") ",
          "delete_cmd_prefix": "rm(",
          "library": "var_list.r",
          "varRefreshCmd": "cat(var_dic_list()) "
        }
      },
      "types_to_exclude": [
        "module",
        "function",
        "builtin_function_or_method",
        "instance",
        "_Feature"
      ],
      "window_display": false
    },
    "colab": {
      "name": "asd_assignment7.ipynb",
      "provenance": [],
      "include_colab_link": true
    }
  },
  "cells": [
    {
      "cell_type": "markdown",
      "metadata": {
        "id": "view-in-github",
        "colab_type": "text"
      },
      "source": [
        "<a href=\"https://colab.research.google.com/github/Braafisch/ASD-Assignments/blob/main/asd_assignment7/asd_assignment7.ipynb\" target=\"_parent\"><img src=\"https://colab.research.google.com/assets/colab-badge.svg\" alt=\"Open In Colab\"/></a>"
      ]
    },
    {
      "cell_type": "markdown",
      "metadata": {
        "id": "E9OI9bvS0Jpm"
      },
      "source": [
        "## Vorlesung ASD, HS Esslingen, Thao Dang\n",
        "\n",
        "# A* Algorithmus\n",
        "\n",
        "In dieser Übung werden Sie den A* Algorithmus aus der Vorlesung nachimplementieren. Sie suchen einen optimalen Pfad für einen Roboter, der sich in einem unbekannten Terrain holonom fortbewegen kann.\n",
        "\n",
        "## Vorbereitungen"
      ]
    },
    {
      "cell_type": "code",
      "metadata": {
        "id": "Il-QgoXR0Jpo"
      },
      "source": [
        "import matplotlib.pyplot as plt\n",
        "import math\n",
        "import numpy as np\n",
        "import sys"
      ],
      "execution_count": 2,
      "outputs": []
    },
    {
      "cell_type": "markdown",
      "metadata": {
        "id": "CLwFmJvt0Jpp"
      },
      "source": [
        "Das Labyrinth, in dem sich der Roboter bewegen soll, ist durch ein 2D-Gitter gegeben. Eine Gitterzelle mit Wert 0 ist dabei frei, eine Gitterzelle mit Wert 1 als belegt zu betrachten. Ausserdem sind sowohl die Start- als auch die Zielposition des Roboters bekannt:"
      ]
    },
    {
      "cell_type": "code",
      "metadata": {
        "id": "7pgVpgWs0Jpp",
        "outputId": "02a1a68e-6f0f-44a2-9bc8-b91ab8dd15a1",
        "colab": {
          "base_uri": "https://localhost:8080/",
          "height": 268
        }
      },
      "source": [
        "maze = np.zeros((100, 100))\n",
        "maze[24:75, 74] = np.ones(maze[24:75, 74].shape)\n",
        "maze[74, 24:75] = np.ones(maze[74, 24:75].shape)\n",
        "\n",
        "N, M = maze.shape\n",
        "\n",
        "plt.imshow(1-maze.T, cmap='gray')\n",
        "\n",
        "# define start and goal position\n",
        "startx, starty = 2, 2\n",
        "goalx, goaly = N-3, M-3\n",
        "\n",
        "plt.plot(startx, starty, 'rs', Markersize=8, LineWidth=2)\n",
        "plt.plot(goalx, goaly, 'r*', Markersize=8, LineWidth=2);"
      ],
      "execution_count": 3,
      "outputs": [
        {
          "output_type": "display_data",
          "data": {
            "image/png": "[encoded data removed]",
            "text/plain": [
              "<Figure size 432x288 with 1 Axes>"
            ]
          },
          "metadata": {
            "tags": [],
            "needs_background": "light"
          }
        }
      ]
    },
    {
      "cell_type": "markdown",
      "metadata": {
        "id": "-LIyx8800Jpq"
      },
      "source": [
        "Um die offenen und geschlossenen Listen einfacher zu verwalten, ist es sinnvoll, jede Gitterposition durch einen 1D-Index (anstatt durch 2D-Koordinaten) zu adressieren. Dazu können die beiden numpy-Funktionen:\n",
        "\n",
        "* ```idx = np.ravel_multi_index((x, y), (N, M))``` und \n",
        "* ```x, y = np.unravel_index(idx, (N, M))```\n",
        "\n",
        "verwendet werden. Beispielsweise kann eine 2-D Koordinate ```(3,2)``` in einem ```(10, 8)```-Array mit \n",
        "```\n",
        "idx = np.ravel_multi_index((3, 2), (4, 4))\n",
        "```\n",
        "eineindeutig in den 1D-Index ```14``` umgewandelt werden.\n",
        "\n",
        "Umgekehrt können aus dem Index ```14``` mit \n",
        "'''\n",
        "x, y = np.unravel_index(14, (4, 4))\n",
        "'''\n",
        "wieder die Original-2D-Koordinaten gewonnen werden.\n",
        "\n",
        "Der folgende Code transformiert unser 2D-Labyrinth entsprechend in eine 1D-Darstellung:"
      ]
    },
    {
      "cell_type": "code",
      "metadata": {
        "id": "ck2EDvmu0Jpq"
      },
      "source": [
        "maze = maze.flatten()\n",
        "\n",
        "start = np.ravel_multi_index((np.int(startx), np.int(starty)), (N, M))\n",
        "goal = np.ravel_multi_index((np.int(goalx), np.int(goaly)), (N, M))"
      ],
      "execution_count": 4,
      "outputs": []
    },
    {
      "cell_type": "markdown",
      "metadata": {
        "id": "P1L1_Cro0Jpr"
      },
      "source": [
        "Mit der nachfolgenden Funktion können alle Nachbarn einer gegebenen Zelle mit Index ```u``` auf einem Gitter der Dimension ```(N, M)``` bestimmt werden. Gleichzeitig werden auch die Kosten für einen Übergang zu der entsprechenden Nachbarzelle angegeben.\n",
        "\n",
        "![Robot motion costs](https://drive.google.com/uc?export=view&id=11cFxJ81Z9vBZzuaJXt727XetHZPYAyxm)"
      ]
    },
    {
      "cell_type": "code",
      "metadata": {
        "id": "tVJLSNjy0Jpr"
      },
      "source": [
        "def getNeighbors(u, N, M):\n",
        "    \"\"\"Get neighbors to u on NxM-grid and associated transition costs\n",
        "\n",
        "    Args:\n",
        "      u: index of current grid cell.\n",
        "      N, M: dimension of 2D grid.\n",
        "\n",
        "    Returns:\n",
        "      P, costs: the indices P of neigboring cells and associated transition costs.\n",
        "    \"\"\"    \n",
        "    moves = np.array([\n",
        "        # dx, dy, cost\n",
        "        [+1,  0, 1], \n",
        "        [-1,  0, 1],\n",
        "        [0, +1, 1],\n",
        "        [0, -1, 1],\n",
        "        [+1, +1, 1.5],\n",
        "        [-1, +1, 1.5],\n",
        "        [-1, -1, 1.5],\n",
        "        [+1, -1, 1.5],\n",
        "        ])\n",
        "\n",
        "    ux, uy = np.unravel_index(u, (N, M)) # the current position in (x,y)-notation\n",
        "    P, costs = [], [] \n",
        "    for idx in range(moves.shape[0]):\n",
        "        vx = ux + moves[idx, 0]\n",
        "        vy = uy + moves[idx, 1]\n",
        "        if (vx>=0) and (vy>=0) and (vx<N) and (vy<M): # valid neighbor position?\n",
        "            P.append(np.ravel_multi_index((np.int(vx), np.int(vy)), (N, M)))\n",
        "            costs.append(moves[idx, 2])\n",
        "\n",
        "    return P, costs"
      ],
      "execution_count": 5,
      "outputs": []
    },
    {
      "cell_type": "markdown",
      "metadata": {
        "id": "WujC79l90Jps"
      },
      "source": [
        "### A1.1\n",
        "\n",
        "Schreiben Sie nun eine Heuristik-Funktion (verwenden Sie beispielsweise die Manhattan-Distanz oder die euklidische Norm). Ist Ihre verwendete Heuristik in diesem Beispiel zulässig?"
      ]
    },
    {
      "cell_type": "code",
      "metadata": {
        "id": "gaJjerFS0Jps"
      },
      "source": [
        "def heuristic(u, goal, N, M):\n",
        "    \"\"\"Heuristics function for remaining path costs to goal. \n",
        "\n",
        "    Args:\n",
        "      u: index of current grid cell.\n",
        "      goal: index of goal cell.\n",
        "      N, M: dimension of 2D grid.\n",
        "\n",
        "    Returns:\n",
        "      h: the heuristics value.\n",
        "    \"\"\"     \n",
        "\n",
        "    ux, uy = np.unravel_index(u, (N, M))  # the current position in (x,y)-notation\n",
        "    gx, gy = np.unravel_index(goal, (N, M))  # the goal position in (x,y)-notation\n",
        "\n",
        "    # HIER CODE EINFUEGEN:\n",
        "    h = np.sqrt((gx-ux)**2+(gy-uy)**2)\n",
        "    return h"
      ],
      "execution_count": 8,
      "outputs": []
    },
    {
      "cell_type": "markdown",
      "metadata": {
        "id": "_ZzGYcJk0Jpt"
      },
      "source": [
        "### A1.2\n",
        "\n",
        "Implementieren Sie nun den in der Vorlesung beschriebenen A*-Algorithmus.\n",
        "\n",
        "**Hinweis**:\n",
        "* Die offene und geschlossene Liste werden in diesem Beispiel durch einfache Liste der Indices repräsentiert.\n",
        "* Die Kosten ```g``` und ```f``` des A*-Algorithmus sowie der beste bekannte Vorgänger ```previous``` jedes Knotens werden der Einfachheit halber in Arrays von derselben Größe wie das Labyrinth ```maze```gespeichert. Beispielsweise bezeichnen dann \n",
        "````\n",
        "f[2] und g[2]\n",
        "````\n",
        "die geschätzten bzw. gefundenen Kosten von Start zu Ziel über die Zelle mit Index ```2```.\n",
        "* Mit dieser Repräsentation von ```g```, ```f``` und ```previous``` ist eine sehr einfache Verwaltung der Listen möglich. Allerdings hat diese Repräsentation den Nachteil das u.U. sehr viel Speicher vorgehalten werden muss. Tatsächlich ist eine solche Repräsentation in der Praxis nicht zu verwenden und es muss eine offene und geschlossene Listen der in der Vorlesung verwendeten Form ```[<idx0, f0, previous0>, <idx1, f1, previous1>, ...]``` eingesetzt werden. "
      ]
    },
    {
      "cell_type": "code",
      "metadata": {
        "id": "LK-_d5Nq0Jpt",
        "outputId": "fb2592db-7213-4999-fe41-13a25fe75260",
        "colab": {
          "base_uri": "https://localhost:8080/",
          "height": 130
        }
      },
      "source": [
        "# initialize open and closed list\n",
        "open_list = [start]\n",
        "closed_list = []\n",
        "\n",
        "# initialize costs\n",
        "g = np.nan * np.ones_like(maze)\n",
        "f = np.nan * np.ones_like(maze)\n",
        "previous = np.nan * np.ones_like(maze)\n",
        "\n",
        "g[start] = 0;\n",
        "f[start] = g[start] + heuristic(start, goal, N, M)\n",
        "previous[start] = 0\n",
        "\n",
        "# HIER CODE EINFUEGEN:\n",
        "v_heuristic = np.vectorize(heuristic)\n",
        "while len(open_list) not 0:\n",
        "  smallest = np.argmin(f[open_list])\n",
        "  if open_list[smallest] is goal:\n",
        "    break\n",
        "  P, cost = getNeighbors(open_list[smallest], N,M)\n",
        "  #g[P] = cost\n",
        "  for i in P:\n",
        "    if i is in open_list:\n",
        "      if g[i] > cost[i]\n",
        "        g[i] = cost[i]\n",
        "        f[i] = \n",
        "    else:\n",
        "      f[]\n",
        "  "
      ],
      "execution_count": 15,
      "outputs": [
        {
          "output_type": "error",
          "ename": "SyntaxError",
          "evalue": "ignored",
          "traceback": [
            "\u001b[0;36m  File \u001b[0;32m\"<ipython-input-15-e8d30f2dbf83>\"\u001b[0;36m, line \u001b[0;32m15\u001b[0m\n\u001b[0;31m    while len(open_list) not 0:\u001b[0m\n\u001b[0m                             ^\u001b[0m\n\u001b[0;31mSyntaxError\u001b[0m\u001b[0;31m:\u001b[0m invalid syntax\n"
          ]
        }
      ]
    },
    {
      "cell_type": "code",
      "metadata": {
        "id": "JOFnQ-UsC8bP"
      },
      "source": [
        "P, cost = getNeighbors(start, N, M)\n",
        "if 56 < 4:\n",
        "  for i in P:\n",
        "    print(i)"
      ],
      "execution_count": 34,
      "outputs": []
    },
    {
      "cell_type": "markdown",
      "metadata": {
        "id": "fKBYgTlq0Jpu"
      },
      "source": [
        "Visualisierung der Ergebnisse (mit offener und geschlossener Liste):"
      ]
    },
    {
      "cell_type": "code",
      "metadata": {
        "id": "TqLjxbi00Jpu"
      },
      "source": [
        "def visualize_visited(maze, open_list, closed_list):\n",
        "    \"\"\"\n",
        "    Create a version of the maze visualizing the open_list and closed_list list.\n",
        "    The open_list list is shown light gray and the closed_list list dark gray \n",
        "    (when using inverted colormap gray).\n",
        "    \"\"\"\n",
        "    visited = maze.copy()\n",
        "    for o in open_list: \n",
        "        visited[o] = 0.15\n",
        "    for c in closed_list: \n",
        "        visited[c] = 0.3\n",
        "    visited = visited.reshape(N, M)\n",
        "    return visited\n",
        "\n",
        "\n",
        "visited = visualize_visited(maze, open_list, closed_list)\n",
        "plt.imshow(1-visited.T, cmap='gray')\n",
        "plt.plot(startx, starty, 'rs', Markersize=8, LineWidth=2)\n",
        "plt.plot(goalx, goaly, 'r*', Markersize=8, LineWidth=2)\n",
        "\n",
        "if len(open_list)==0:\n",
        "    plt.title('Could not find any solution!')\n",
        "else:\n",
        "    plt.title('Cost of best solution: %.2f\\n' % g[goal])\n",
        "    \n",
        "    idx = goal\n",
        "    path = [idx]\n",
        "    while int(previous[idx]) != start:\n",
        "        idx = int(previous[idx])\n",
        "        path.append(idx)\n",
        "    path.reverse()\n",
        "\n",
        "    for i in range(1, len(path)): \n",
        "        x1, y1 = np.unravel_index(path[i-1], (N, M))\n",
        "        x2, y2 = np.unravel_index(path[i], (N, M)) \n",
        "        plt.plot([x1, x2], [y1, y2], 'g', LineWidth=2)"
      ],
      "execution_count": null,
      "outputs": []
    },
    {
      "cell_type": "markdown",
      "metadata": {
        "id": "RD7SBhQ10Jpv"
      },
      "source": [
        "### A1.3\n",
        "\n",
        "Verwenden Sie nun andere Heuristiken in der Funktion ```heuristic``` und vergleichen Sie die jeweiligen Ergebnisse."
      ]
    }
  ]
}